{
 "cells": [
  {
   "cell_type": "code",
   "execution_count": 2,
   "id": "3ad4e0e8",
   "metadata": {},
   "outputs": [],
   "source": [
    "import selenium \n",
    "import pandas as pd\n",
    "from selenium import webdriver\n",
    "import warnings\n",
    "warnings.filterwarnings('ignore')\n",
    "from selenium.common.exceptions import StaleElementReferenceException, NoSuchElementException\n",
    "from selenium.webdriver.common.by import By\n",
    "import requests\n",
    "import time"
   ]
  },
  {
   "cell_type": "code",
   "execution_count": 17,
   "id": "0411cff8",
   "metadata": {},
   "outputs": [],
   "source": [
    "driver = webdriver.Chrome(r\"C:\\Users\\Kavisha\\Downloads\\chromedriver_win32 (3)\\chromedriver.exe\")"
   ]
  },
  {
   "cell_type": "code",
   "execution_count": 18,
   "id": "a31b4ff9",
   "metadata": {},
   "outputs": [],
   "source": [
    "driver.get(\"https://www.amazon.in/\")"
   ]
  },
  {
   "cell_type": "code",
   "execution_count": 19,
   "id": "d49bdec1",
   "metadata": {},
   "outputs": [],
   "source": [
    "search_product = driver.find_element(By.XPATH,'//input[@class=\"nav-input nav-progressive-attribute\"]')\n",
    "search_product.send_keys(\"guitar\")\n"
   ]
  },
  {
   "cell_type": "code",
   "execution_count": 20,
   "id": "6b57d9ec",
   "metadata": {},
   "outputs": [],
   "source": [
    "search_btn = driver.find_element(By.XPATH,'//span[@class=\"nav-search-submit-text nav-sprite nav-progressive-attribute\"]')\n",
    "search_btn.click()"
   ]
  },
  {
   "cell_type": "markdown",
   "id": "af9f6e80",
   "metadata": {},
   "source": [
    "# question 2\n"
   ]
  },
  {
   "cell_type": "code",
   "execution_count": 22,
   "id": "74e961a7",
   "metadata": {},
   "outputs": [],
   "source": [
    "#scraping all product urls\n",
    "\n",
    "product_urls = []\n",
    "start = 0\n",
    "end = 3\n",
    "for page in range(start,end):\n",
    "    url = driver.find_elements(By.XPATH,'//a[@class=\"a-link-normal s-underline-text s-underline-link-text s-link-style a-text-normal\"]')\n",
    "    for i in url[0:10]:\n",
    "        product_urls.append(i.get_attribute(\"href\"))\n",
    "    next_button=driver.find_element(By.XPATH,'//a[@class=\"s-pagination-item s-pagination-next s-pagination-button s-pagination-separator\"]')\n",
    "    next_button.click()\n",
    "    time.sleep(2)"
   ]
  },
  {
   "cell_type": "code",
   "execution_count": 23,
   "id": "9f4668dd",
   "metadata": {},
   "outputs": [
    {
     "data": {
      "text/plain": [
       "30"
      ]
     },
     "execution_count": 23,
     "metadata": {},
     "output_type": "execute_result"
    }
   ],
   "source": [
    "len(product_urls)"
   ]
  },
  {
   "cell_type": "code",
   "execution_count": 24,
   "id": "d51cf67e",
   "metadata": {},
   "outputs": [
    {
     "data": {
      "text/plain": [
       "['https://www.amazon.in/sspa/click?ie=UTF8&spc=MToyMjkzNzczNjM3MTA5MTk2OjE2NzIwNDEyNjg6c3BfYXRmOjIwMDYxNjIwNjk2MjA0OjowOjo&url=%2FKadence-Frontier-Acoustic-Guitar-Strings%2Fdp%2FB01GDZ46AA%2Fref%3Dsr_1_1_sspa%3Fcrid%3D15OAFSYBRC38I%26keywords%3Dguitar%26qid%3D1672041268%26sprefix%3D%252Caps%252C195%26sr%3D8-1-spons%26sp_csd%3Dd2lkZ2V0TmFtZT1zcF9hdGY%26psc%3D1%26smid%3DAM04Z7MH4HSDD',\n",
       " 'https://www.amazon.in/sspa/click?ie=UTF8&spc=MToyMjkzNzczNjM3MTA5MTk2OjE2NzIwNDEyNjg6c3BfYXRmOjIwMDU3MTkzMDU2MjA0OjowOjo&url=%2FKadence-Slowhand-Premium-Acoustic-Instrument%2Fdp%2FB077SZ667X%2Fref%3Dsr_1_2_sspa%3Fcrid%3D15OAFSYBRC38I%26keywords%3Dguitar%26qid%3D1672041268%26sprefix%3D%252Caps%252C195%26sr%3D8-2-spons%26sp_csd%3Dd2lkZ2V0TmFtZT1zcF9hdGY%26psc%3D1',\n",
       " 'https://www.amazon.in/sspa/click?ie=UTF8&spc=MToyMjkzNzczNjM3MTA5MTk2OjE2NzIwNDEyNjg6c3BfYXRmOjIwMTAyMDM2OTc1OTk4OjowOjo&url=%2FVD-ENTERPRISE-Adjustable-Classical-Instrument%2Fdp%2FB08S323L6W%2Fref%3Dsr_1_3_sspa%3Fcrid%3D15OAFSYBRC38I%26keywords%3Dguitar%26qid%3D1672041268%26sprefix%3D%252Caps%252C195%26sr%3D8-3-spons%26sp_csd%3Dd2lkZ2V0TmFtZT1zcF9hdGY%26psc%3D1',\n",
       " 'https://www.amazon.in/sspa/click?ie=UTF8&spc=MToyMjkzNzczNjM3MTA5MTk2OjE2NzIwNDEyNjg6c3BfYXRmOjIwMDc5OTc5NTkyNDk4OjowOjo&url=%2FHontral-Childrens-Instrument-Educational-Beginners%2Fdp%2FB0BD8Y1H78%2Fref%3Dsr_1_4_sspa%3Fcrid%3D15OAFSYBRC38I%26keywords%3Dguitar%26qid%3D1672041268%26sprefix%3D%252Caps%252C195%26sr%3D8-4-spons%26sp_csd%3Dd2lkZ2V0TmFtZT1zcF9hdGY%26psc%3D1',\n",
       " 'https://www.amazon.in/Juarez-Acoustic-Cutaway-038C-Strings/dp/B017NPCSLI/ref=sr_1_5?crid=15OAFSYBRC38I&keywords=guitar&qid=1672041268&sprefix=%2Caps%2C195&sr=8-5',\n",
       " 'https://www.amazon.in/Intern-INT-38C-Acoustic-Guitar-Black/dp/B073B6TQQY/ref=sr_1_6?crid=15OAFSYBRC38I&keywords=guitar&qid=1672041268&sprefix=%2Caps%2C195&sr=8-6',\n",
       " 'https://www.amazon.in/Intern-INT-38C-Acoustic-Guitar-Blue/dp/B073B5RZBV/ref=sr_1_7?crid=15OAFSYBRC38I&keywords=guitar&qid=1672041268&sprefix=%2Caps%2C195&sr=8-7',\n",
       " 'https://www.amazon.in/Intern-INT-38C-Acoustic-Guitar-Sunburst/dp/B073B5MJRM/ref=sr_1_8?crid=15OAFSYBRC38I&keywords=guitar&qid=1672041268&sprefix=%2Caps%2C195&sr=8-8',\n",
       " 'https://www.amazon.in/Intern-38-inch-Cutaway-Design-Acoustic/dp/B07X4PN85R/ref=sr_1_9?crid=15OAFSYBRC38I&keywords=guitar&qid=1672041268&sprefix=%2Caps%2C195&sr=8-9',\n",
       " 'https://www.amazon.in/Intern-INT-38C-Acoustic-Guitar-Natural/dp/B073B4D22T/ref=sr_1_10?crid=15OAFSYBRC38I&keywords=guitar&qid=1672041268&sprefix=%2Caps%2C195&sr=8-10',\n",
       " 'https://www.amazon.in/sspa/click?ie=UTF8&spc=MTo1NDI5OTE4NzYyMjczOTc5OjE2NzIwNDE1Mzc6c3BfYXRmX25leHQ6MjAwNzgzMzY4ODc0OTg6OjA6Og&url=%2FBlueberry-B-D38-Acoustic-Inbuilt-Strings%2Fdp%2FB07PHYZZP1%2Fref%3Dsr_1_49_sspa%3Fcrid%3D15OAFSYBRC38I%26keywords%3Dguitar%26qid%3D1672041537%26sprefix%3D%252Caps%252C195%26sr%3D8-49-spons%26sp_csd%3Dd2lkZ2V0TmFtZT1zcF9hdGZfbmV4dA%26psc%3D1',\n",
       " 'https://www.amazon.in/sspa/click?ie=UTF8&spc=MTo1NDI5OTE4NzYyMjczOTc5OjE2NzIwNDE1Mzc6c3BfYXRmX25leHQ6MjAwMTk2MjU1OTIxMDQ6OjA6Og&url=%2FCort-AD810-Dreadnought-Acoustic-Guitar%2Fdp%2FB07KMBVR6V%2Fref%3Dsr_1_50_sspa%3Fcrid%3D15OAFSYBRC38I%26keywords%3Dguitar%26qid%3D1672041537%26sprefix%3D%252Caps%252C195%26sr%3D8-50-spons%26sp_csd%3Dd2lkZ2V0TmFtZT1zcF9hdGZfbmV4dA%26psc%3D1%26smid%3DA2E0IZ06LXDJ9X',\n",
       " 'https://www.amazon.in/sspa/click?ie=UTF8&spc=MTo1NDI5OTE4NzYyMjczOTc5OjE2NzIwNDE1Mzc6c3BfYXRmX25leHQ6MjAwNzgzMzY4ODU1OTg6OjA6Og&url=%2FFestra-Trussrod-Acoustic-Guitar-Strings%2Fdp%2FB09VLBKD2M%2Fref%3Dsr_1_51_sspa%3Fcrid%3D15OAFSYBRC38I%26keywords%3Dguitar%26qid%3D1672041537%26sprefix%3D%252Caps%252C195%26sr%3D8-51-spons%26sp_csd%3Dd2lkZ2V0TmFtZT1zcF9hdGZfbmV4dA%26psc%3D1',\n",
       " 'https://www.amazon.in/sspa/click?ie=UTF8&spc=MTo1NDI5OTE4NzYyMjczOTc5OjE2NzIwNDE1Mzc6c3BfYXRmX25leHQ6MjAwNzgzMzY4ODg4OTg6OjA6Og&url=%2FBlueberry-38C-Acoustic-Guitar-Strings%2Fdp%2FB08KLMV4XX%2Fref%3Dsr_1_52_sspa%3Fcrid%3D15OAFSYBRC38I%26keywords%3Dguitar%26qid%3D1672041537%26sprefix%3D%252Caps%252C195%26sr%3D8-52-spons%26sp_csd%3Dd2lkZ2V0TmFtZT1zcF9hdGZfbmV4dA%26psc%3D1',\n",
       " 'https://www.amazon.in/JUAREZ-JRZ38C-Handed-Acoustic-Strings/dp/B01FYYTDW2/ref=sr_1_53?crid=15OAFSYBRC38I&keywords=guitar&qid=1672041537&sprefix=%2Caps%2C195&sr=8-53',\n",
       " 'https://www.amazon.in/Juarez-JRZ38C-ASH-Strings-Acoustic/dp/B072JTPNZC/ref=sr_1_54?crid=15OAFSYBRC38I&keywords=guitar&qid=1672041537&sprefix=%2Caps%2C195&sr=8-54',\n",
       " 'https://www.amazon.in/Pluto-HW41C-201P-41-inch-Cutaway-Semi-Acoustic/dp/B07F2QF8XG/ref=sr_1_55?crid=15OAFSYBRC38I&keywords=guitar&qid=1672041537&sprefix=%2Caps%2C195&sr=8-55',\n",
       " 'https://www.amazon.in/Fender-String-Cutaway-Acoustic-Guitar/dp/B07YX5W8MV/ref=sr_1_56?crid=15OAFSYBRC38I&keywords=guitar&qid=1672041537&sprefix=%2Caps%2C195&sr=8-56',\n",
       " 'https://www.amazon.in/Yamaha-FS-100C-6-String-Acoustic-without/dp/B00PAS9CK6/ref=sr_1_57?crid=15OAFSYBRC38I&keywords=guitar&qid=1672041537&sprefix=%2Caps%2C195&sr=8-57',\n",
       " 'https://www.amazon.in/Fender-Dread-String-Acoustic-Guitar/dp/B07RM4B5LJ/ref=sr_1_58?crid=15OAFSYBRC38I&keywords=guitar&qid=1672041537&sprefix=%2Caps%2C195&sr=8-58',\n",
       " 'https://www.amazon.in/sspa/click?ie=UTF8&spc=MTo4OTMxMjgwMjA4OTMwNTQxOjE2NzIwNDE1NDM6c3BfYXRmX25leHQ6MjAwNzgzMzY4ODkzOTg6OjA6Og&url=%2FBlueberry-Acoustic-Guitar-Inbuilt-Strings%2Fdp%2FB07PHZ16BG%2Fref%3Dsr_1_97_sspa%3Fcrid%3D15OAFSYBRC38I%26keywords%3Dguitar%26qid%3D1672041543%26sprefix%3D%252Caps%252C195%26sr%3D8-97-spons%26sp_csd%3Dd2lkZ2V0TmFtZT1zcF9hdGZfbmV4dA%26psc%3D1',\n",
       " 'https://www.amazon.in/sspa/click?ie=UTF8&spc=MTo4OTMxMjgwMjA4OTMwNTQxOjE2NzIwNDE1NDM6c3BfYXRmX25leHQ6MjAwNzgzMzY4ODU4OTg6OjA6Og&url=%2FFestra-Trussrod-Acoustic-Strings-Classic%2Fdp%2FB09VLDCT9H%2Fref%3Dsr_1_98_sspa%3Fcrid%3D15OAFSYBRC38I%26keywords%3Dguitar%26qid%3D1672041543%26sprefix%3D%252Caps%252C195%26sr%3D8-98-spons%26sp_csd%3Dd2lkZ2V0TmFtZT1zcF9hdGZfbmV4dA%26psc%3D1',\n",
       " 'https://www.amazon.in/sspa/click?ie=UTF8&spc=MTo4OTMxMjgwMjA4OTMwNTQxOjE2NzIwNDE1NDM6c3BfYXRmX25leHQ6MjAwNzgzMzY4ODc2OTg6OjA6Og&url=%2FBlueberry-B-D38-Acoustic-Inbuilt-Sunburst%2Fdp%2FB08LNP8KGS%2Fref%3Dsr_1_99_sspa%3Fcrid%3D15OAFSYBRC38I%26keywords%3Dguitar%26qid%3D1672041543%26sprefix%3D%252Caps%252C195%26sr%3D8-99-spons%26sp_csd%3Dd2lkZ2V0TmFtZT1zcF9hdGZfbmV4dA%26psc%3D1',\n",
       " 'https://www.amazon.in/sspa/click?ie=UTF8&spc=MTo4OTMxMjgwMjA4OTMwNTQxOjE2NzIwNDE1NDM6c3BfYXRmX25leHQ6MjAwNzgzMzY4ODg5OTg6OjA6Og&url=%2FBlueberry-Acoustic-Guitar-Inbuilt-Strings%2Fdp%2FB07XBS8QQW%2Fref%3Dsr_1_100_sspa%3Fcrid%3D15OAFSYBRC38I%26keywords%3Dguitar%26qid%3D1672041543%26sprefix%3D%252Caps%252C195%26sr%3D8-100-spons%26sp_csd%3Dd2lkZ2V0TmFtZT1zcF9hdGZfbmV4dA%26psc%3D1',\n",
       " 'https://www.amazon.in/Medellin-carbn-fiber-guitar-38inch/dp/B09MSGVCDV/ref=sr_1_101?crid=15OAFSYBRC38I&keywords=guitar&qid=1672041543&sprefix=%2Caps%2C195&sr=8-101',\n",
       " 'https://www.amazon.in/Henrix-Handed-Cutway-Acoustic-Polishing/dp/B08R3DKYGM/ref=sr_1_102?crid=15OAFSYBRC38I&keywords=guitar&qid=1672041543&sprefix=%2Caps%2C195&sr=8-102',\n",
       " 'https://www.amazon.in/Cort-X100-6-String-Electric-Guitar/dp/B07QKWFTK1/ref=sr_1_103?crid=15OAFSYBRC38I&keywords=guitar&qid=1672041543&sprefix=%2Caps%2C195&sr=8-103',\n",
       " 'https://www.amazon.in/YAMAHA-NATURAL-CONCERT-CUTAWAY-GUITAR/dp/B08KW4DRKL/ref=sr_1_104?crid=15OAFSYBRC38I&keywords=guitar&qid=1672041543&sprefix=%2Caps%2C195&sr=8-104',\n",
       " 'https://www.amazon.in/JUAREZ-Arpeggio-Acoustic-Rosewood-Fretboard/dp/B08LBH5DB8/ref=sr_1_105?crid=15OAFSYBRC38I&keywords=guitar&qid=1672041543&sprefix=%2Caps%2C195&sr=8-105',\n",
       " 'https://www.amazon.in/Yamaha-Classical-Guitar-C40-02/dp/B003UGCUFE/ref=sr_1_106?crid=15OAFSYBRC38I&keywords=guitar&qid=1672041543&sprefix=%2Caps%2C195&sr=8-106']"
      ]
     },
     "execution_count": 24,
     "metadata": {},
     "output_type": "execute_result"
    }
   ],
   "source": [
    "product_urls"
   ]
  },
  {
   "cell_type": "code",
   "execution_count": null,
   "id": "d4b084fd",
   "metadata": {},
   "outputs": [],
   "source": [
    "Brand=[]\n",
    "\n",
    "for url in product_urls:\n",
    "    driver.get(url)\n",
    "    time.sleep(5)\n",
    "    \n",
    "    try:\n",
    "        brand = driver.find_element(By.XPATH,'/html/body/div[2]/div[2]/div[5]/div[4]/div[4]/div[42]/div/table/tbody/tr[1]/td[2]/span')\n",
    "        Brand.append(brand.text)\n",
    "    except NoSuchElementException:\n",
    "        Brand.append('-')"
   ]
  },
  {
   "cell_type": "code",
   "execution_count": 26,
   "id": "631b1e90",
   "metadata": {},
   "outputs": [],
   "source": [
    "Product = []\n",
    "\n",
    "for url in product_urls[:10]:\n",
    "    driver.get(url)\n",
    "    time.sleep(5)\n",
    "    \n",
    "    try:\n",
    "        product = driver.find_element(By.XPATH,'/html/body/div[2]/div[2]/div[5]/div[4]/div[4]/div[33]/div[1]/div[3]/div/div/div[2]/span/div/div/div/span[2]')\n",
    "        Product.append(product.text)\n",
    "    except NoSuchElementException:\n",
    "        Product.append('-')"
   ]
  },
  {
   "cell_type": "code",
   "execution_count": 30,
   "id": "4e689ccd",
   "metadata": {},
   "outputs": [],
   "source": [
    "Price = []\n",
    "\n",
    "for url in product_urls[:10]:\n",
    "    driver.get(url)\n",
    "    time.sleep(2)\n",
    "    \n",
    "    try:\n",
    "        price = driver.find_element(By.XPATH,'/html/body/div[2]/div[2]/div[5]/div[4]/div[4]/div[10]/div/div[1]/div[3]/div[1]/span[2]/span[2]/span[2]')\n",
    "        Price.append(price.text)\n",
    "    except NoSuchElementException:\n",
    "        Price.append('-')"
   ]
  },
  {
   "cell_type": "code",
   "execution_count": 36,
   "id": "e351a19b",
   "metadata": {},
   "outputs": [],
   "source": [
    "Delivery = []\n",
    "\n",
    "for url in product_urls[:10]:\n",
    "    driver.get(url)\n",
    "    time.sleep(2)\n",
    "    \n",
    "    try:\n",
    "        delivery = driver.find_element(By.XPATH,'/html/body/div[2]/div[2]/div[5]/div[4]/div[1]/div[3]/div/div/div[1]/div/div/div[1]/div/div[2]/div[12]/div[1]/div/div/div[2]')\n",
    "        Delivery.append(delivery.text)\n",
    "    except NoSuchElementException:\n",
    "        Delivery.append('-')"
   ]
  },
  {
   "cell_type": "code",
   "execution_count": 38,
   "id": "0795fddd",
   "metadata": {},
   "outputs": [],
   "source": [
    "Return  = []\n",
    "\n",
    "for url in product_urls[:10]:\n",
    "    driver.get(url)\n",
    "    time.sleep(2)\n",
    "    \n",
    "    try: \n",
    "        ret = driver.find_element(By.XPATH,'/html/body/div[2]/div[2]/div[5]/div[4]/div[4]/div[21]/div/div[1]/div[2]/div/div/div/div[3]/span/div[2]/a')\n",
    "        Return.append(ret.text)\n",
    "    except NoSuchElementException:\n",
    "        Return.append('-')\n",
    "        "
   ]
  },
  {
   "cell_type": "code",
   "execution_count": 40,
   "id": "595a55e3",
   "metadata": {},
   "outputs": [],
   "source": [
    "import pandas as pd"
   ]
  },
  {
   "cell_type": "code",
   "execution_count": 41,
   "id": "9dedcbaa",
   "metadata": {},
   "outputs": [
    {
     "data": {
      "text/html": [
       "<div>\n",
       "<style scoped>\n",
       "    .dataframe tbody tr th:only-of-type {\n",
       "        vertical-align: middle;\n",
       "    }\n",
       "\n",
       "    .dataframe tbody tr th {\n",
       "        vertical-align: top;\n",
       "    }\n",
       "\n",
       "    .dataframe thead th {\n",
       "        text-align: right;\n",
       "    }\n",
       "</style>\n",
       "<table border=\"1\" class=\"dataframe\">\n",
       "  <thead>\n",
       "    <tr style=\"text-align: right;\">\n",
       "      <th></th>\n",
       "      <th>Brand</th>\n",
       "      <th>Product</th>\n",
       "      <th>expected_Delivery</th>\n",
       "      <th>Return</th>\n",
       "    </tr>\n",
       "  </thead>\n",
       "  <tbody>\n",
       "    <tr>\n",
       "      <th>0</th>\n",
       "      <td>Kadence</td>\n",
       "      <td>Acoustic</td>\n",
       "      <td>FREE delivery Wednesday, 28 December. Details</td>\n",
       "      <td>7 days Replacement</td>\n",
       "    </tr>\n",
       "    <tr>\n",
       "      <th>1</th>\n",
       "      <td>Kadence</td>\n",
       "      <td>-</td>\n",
       "      <td>FREE delivery Thursday, 29 December. Details</td>\n",
       "      <td>-</td>\n",
       "    </tr>\n",
       "    <tr>\n",
       "      <th>2</th>\n",
       "      <td>Wooden</td>\n",
       "      <td>-</td>\n",
       "      <td>-</td>\n",
       "      <td>-</td>\n",
       "    </tr>\n",
       "    <tr>\n",
       "      <th>3</th>\n",
       "      <td>-</td>\n",
       "      <td>-</td>\n",
       "      <td>-</td>\n",
       "      <td>-</td>\n",
       "    </tr>\n",
       "    <tr>\n",
       "      <th>4</th>\n",
       "      <td>-</td>\n",
       "      <td>-</td>\n",
       "      <td>-</td>\n",
       "      <td>-</td>\n",
       "    </tr>\n",
       "    <tr>\n",
       "      <th>5</th>\n",
       "      <td>-</td>\n",
       "      <td>INT-38C-BK</td>\n",
       "      <td>-</td>\n",
       "      <td>-</td>\n",
       "    </tr>\n",
       "    <tr>\n",
       "      <th>6</th>\n",
       "      <td>Intern</td>\n",
       "      <td>-</td>\n",
       "      <td>-</td>\n",
       "      <td>-</td>\n",
       "    </tr>\n",
       "    <tr>\n",
       "      <th>7</th>\n",
       "      <td>Intern</td>\n",
       "      <td>INT-38C-SB</td>\n",
       "      <td>-</td>\n",
       "      <td>-</td>\n",
       "    </tr>\n",
       "    <tr>\n",
       "      <th>8</th>\n",
       "      <td>-</td>\n",
       "      <td>-</td>\n",
       "      <td>-</td>\n",
       "      <td>-</td>\n",
       "    </tr>\n",
       "    <tr>\n",
       "      <th>9</th>\n",
       "      <td>-</td>\n",
       "      <td>INT-38C-NT</td>\n",
       "      <td>-</td>\n",
       "      <td>-</td>\n",
       "    </tr>\n",
       "  </tbody>\n",
       "</table>\n",
       "</div>"
      ],
      "text/plain": [
       "     Brand     Product                              expected_Delivery  \\\n",
       "0  Kadence    Acoustic  FREE delivery Wednesday, 28 December. Details   \n",
       "1  Kadence           -   FREE delivery Thursday, 29 December. Details   \n",
       "2   Wooden           -                                              -   \n",
       "3        -           -                                              -   \n",
       "4        -           -                                              -   \n",
       "5        -  INT-38C-BK                                              -   \n",
       "6   Intern           -                                              -   \n",
       "7   Intern  INT-38C-SB                                              -   \n",
       "8        -           -                                              -   \n",
       "9        -  INT-38C-NT                                              -   \n",
       "\n",
       "               Return  \n",
       "0  7 days Replacement  \n",
       "1                   -  \n",
       "2                   -  \n",
       "3                   -  \n",
       "4                   -  \n",
       "5                   -  \n",
       "6                   -  \n",
       "7                   -  \n",
       "8                   -  \n",
       "9                   -  "
      ]
     },
     "execution_count": 41,
     "metadata": {},
     "output_type": "execute_result"
    }
   ],
   "source": [
    "df = pd.DataFrame({'Brand':Brand,'Product':Product,'expected_Delivery':Delivery,'Return':Return})\n",
    "df"
   ]
  },
  {
   "cell_type": "code",
   "execution_count": null,
   "id": "9d8a5edb",
   "metadata": {},
   "outputs": [],
   "source": []
  },
  {
   "cell_type": "code",
   "execution_count": null,
   "id": "9b89f75d",
   "metadata": {},
   "outputs": [],
   "source": []
  },
  {
   "cell_type": "markdown",
   "id": "78518a8d",
   "metadata": {},
   "source": [
    "# question 3"
   ]
  },
  {
   "cell_type": "code",
   "execution_count": 92,
   "id": "5e9e3085",
   "metadata": {},
   "outputs": [],
   "source": [
    "driver = webdriver.Chrome(r\"C:\\Users\\Kavisha\\Downloads\\chromedriver_win32 (3)\\chromedriver.exe\")\n"
   ]
  },
  {
   "cell_type": "code",
   "execution_count": 93,
   "id": "90ebe708",
   "metadata": {},
   "outputs": [],
   "source": [
    "driver.get(\"http://images.google.com/\")"
   ]
  },
  {
   "cell_type": "code",
   "execution_count": 94,
   "id": "971b856f",
   "metadata": {},
   "outputs": [],
   "source": [
    "search_product = driver.find_element(By.XPATH,'//input[@class=\"gLFyf\"]')\n",
    "search_product.send_keys(\"Fruits\")\n"
   ]
  },
  {
   "cell_type": "code",
   "execution_count": 96,
   "id": "1f35e14d",
   "metadata": {},
   "outputs": [],
   "source": [
    "search_btn = driver.find_element(By.XPATH,'//span[@class=\"z1asCe MZy1Rb\"]')\n",
    "search_btn.click()\n"
   ]
  },
  {
   "cell_type": "code",
   "execution_count": 98,
   "id": "f062ca87",
   "metadata": {},
   "outputs": [],
   "source": [
    "for _ in range(20):\n",
    "    driver.execute_script(\"window.scrollBy(0,1000)\")\n",
    "images = driver.find_elements(By.XPATH,'//img[@class=\"rg_i Q4LuWd\"]')\n",
    "\n",
    "img_urls= []\n",
    "for image in images:\n",
    "    source = image.get_attribute('src')\n",
    "    if source is not None:\n",
    "        if(source[0:4]=='http'):\n",
    "            img_urls.append(source)\n",
    "            \n",
    "            \n",
    "for i  in range(len(img_urls)):\n",
    "    if i>10:\n",
    "        break \n",
    "        print(\"Downloading {0} of {1} images \".format(i,10))\n",
    "        response = requests.get(img_urls[i])\n",
    "        file = open(r\"C:\\Users\\Kavisha\\Downloads\"+str(i)+\".jpg\",\"wb\")\n",
    "        file.write(response.content)"
   ]
  },
  {
   "cell_type": "code",
   "execution_count": null,
   "id": "e9a34fc2",
   "metadata": {},
   "outputs": [],
   "source": []
  },
  {
   "cell_type": "markdown",
   "id": "fa31903f",
   "metadata": {},
   "source": [
    "# question 4\n"
   ]
  },
  {
   "cell_type": "code",
   "execution_count": 15,
   "id": "c4634d2b",
   "metadata": {},
   "outputs": [],
   "source": [
    "driver = webdriver.Chrome(r\"C:\\Users\\Kavisha\\Downloads\\chromedriver_win32 (3)\\chromedriver.exe\")"
   ]
  },
  {
   "cell_type": "code",
   "execution_count": 16,
   "id": "e4c606ca",
   "metadata": {},
   "outputs": [],
   "source": [
    "driver.get(\"http://www.flipkart.com/\")"
   ]
  },
  {
   "cell_type": "code",
   "execution_count": 17,
   "id": "d526fede",
   "metadata": {},
   "outputs": [],
   "source": [
    "search_product = driver.find_element(By.XPATH,'//input[@class=\"_3704LK\"]')\n",
    "search_product.send_keys(\"pixel 4A\")"
   ]
  },
  {
   "cell_type": "code",
   "execution_count": 18,
   "id": "743e3430",
   "metadata": {},
   "outputs": [],
   "source": [
    "search_btn = driver.find_element(By.XPATH,'//button[@class=\"L0Z3Pu\"]')\n",
    "search_btn.click()"
   ]
  },
  {
   "cell_type": "code",
   "execution_count": 21,
   "id": "eb940fc1",
   "metadata": {},
   "outputs": [],
   "source": [
    "product_urls = []\n",
    "\n",
    "url = driver.find_elements(By.XPATH,'//a[@class=\"_1fQZEK\"]')\n",
    "for i in url:\n",
    "    product_urls.append(i.get_attribute(\"href\"))"
   ]
  },
  {
   "cell_type": "code",
   "execution_count": 22,
   "id": "d1b3f654",
   "metadata": {},
   "outputs": [
    {
     "data": {
      "text/plain": [
       "24"
      ]
     },
     "execution_count": 22,
     "metadata": {},
     "output_type": "execute_result"
    }
   ],
   "source": [
    "len(product_urls)"
   ]
  },
  {
   "cell_type": "code",
   "execution_count": 23,
   "id": "5e090ce2",
   "metadata": {},
   "outputs": [],
   "source": [
    "Brand = []\n",
    "Phone_name = []\n",
    "Colour = []\n",
    "RAM = []\n",
    "Storage = []\n",
    "Primary_Camera = []\n",
    "Secondary_Camera = []\n",
    "Display_Size = []\n",
    "Display_Resolution= []\n",
    "Processor = []\n",
    "Processor_Cores = []\n",
    "Battery_Capacity = []\n",
    "Price = []\n",
    "URL = []\n"
   ]
  },
  {
   "cell_type": "code",
   "execution_count": 24,
   "id": "60048d35",
   "metadata": {},
   "outputs": [
    {
     "data": {
      "text/plain": [
       "['https://www.flipkart.com/google-pixel-4a-just-black-128-gb/p/itm023b9677aa45d?pid=MOBFUSBNAZGY7HQU&lid=LSTMOBFUSBNAZGY7HQUWHTF0C&marketplace=FLIPKART&q=pixel+4A&store=tyy%2F4io&srno=s_1_1&otracker=search&otracker1=search&fm=organic&iid=2ff65082-2e01-4f36-a8cc-2f66015582e1.MOBFUSBNAZGY7HQU.SEARCH&ppt=hp&ppn=homepage&ssid=7t9xqyth5s0000001672065406020&qH=9b26a23b2cff510d',\n",
       " 'https://www.flipkart.com/vivo-t1-44w-midnight-galaxy-128-gb/p/itm2a08ebbea3689?pid=MOBGDRHVZN29ZJF4&lid=LSTMOBGDRHVZN29ZJF4WEHAX7&marketplace=FLIPKART&q=pixel+4A&store=tyy%2F4io&srno=s_1_2&otracker=search&otracker1=search&fm=organic&iid=2ff65082-2e01-4f36-a8cc-2f66015582e1.MOBGDRHVZN29ZJF4.SEARCH&ppt=hp&ppn=homepage&ssid=7t9xqyth5s0000001672065406020&qH=9b26a23b2cff510d',\n",
       " 'https://www.flipkart.com/vivo-t1-44w-starry-sky-128-gb/p/itm2a08ebbea3689?pid=MOBGDRHVHNBBBBP5&lid=LSTMOBGDRHVHNBBBBP5SY2MJL&marketplace=FLIPKART&q=pixel+4A&store=tyy%2F4io&srno=s_1_3&otracker=search&otracker1=search&fm=organic&iid=2ff65082-2e01-4f36-a8cc-2f66015582e1.MOBGDRHVHNBBBBP5.SEARCH&ppt=hp&ppn=homepage&ssid=7t9xqyth5s0000001672065406020&qH=9b26a23b2cff510d',\n",
       " 'https://www.flipkart.com/vivo-t1-44w-ice-dawn-128-gb/p/itm2a08ebbea3689?pid=MOBGDRHVKYHCVG7W&lid=LSTMOBGDRHVKYHCVG7WU0WEW8&marketplace=FLIPKART&q=pixel+4A&store=tyy%2F4io&srno=s_1_4&otracker=search&otracker1=search&fm=organic&iid=2ff65082-2e01-4f36-a8cc-2f66015582e1.MOBGDRHVKYHCVG7W.SEARCH&ppt=hp&ppn=homepage&ssid=7t9xqyth5s0000001672065406020&qH=9b26a23b2cff510d',\n",
       " 'https://www.flipkart.com/realme-c30-lake-blue-32-gb/p/itmfcf69b2db5059?pid=MOBGF37GTRVMRJVK&lid=LSTMOBGF37GTRVMRJVKDECI9W&marketplace=FLIPKART&q=pixel+4A&store=tyy%2F4io&srno=s_1_5&otracker=search&otracker1=search&fm=organic&iid=2ff65082-2e01-4f36-a8cc-2f66015582e1.MOBGF37GTRVMRJVK.SEARCH&ppt=hp&ppn=homepage&ssid=7t9xqyth5s0000001672065406020&qH=9b26a23b2cff510d',\n",
       " 'https://www.flipkart.com/vivo-t1-44w-midnight-galaxy-128-gb/p/itm2a08ebbea3689?pid=MOBGDRHVXFVCGS23&lid=LSTMOBGDRHVXFVCGS23BNMEFR&marketplace=FLIPKART&q=pixel+4A&store=tyy%2F4io&srno=s_1_6&otracker=search&otracker1=search&fm=organic&iid=2ff65082-2e01-4f36-a8cc-2f66015582e1.MOBGDRHVXFVCGS23.SEARCH&ppt=hp&ppn=homepage&ssid=7t9xqyth5s0000001672065406020&qH=9b26a23b2cff510d',\n",
       " 'https://www.flipkart.com/realme-c30-denim-black-32-gb/p/itmfcf69b2db5059?pid=MOBGF37G8TGKHFWJ&lid=LSTMOBGF37G8TGKHFWJ1ZG6GN&marketplace=FLIPKART&q=pixel+4A&store=tyy%2F4io&srno=s_1_7&otracker=search&otracker1=search&fm=organic&iid=2ff65082-2e01-4f36-a8cc-2f66015582e1.MOBGF37G8TGKHFWJ.SEARCH&ppt=hp&ppn=homepage&ssid=7t9xqyth5s0000001672065406020&qH=9b26a23b2cff510d',\n",
       " 'https://www.flipkart.com/realme-c30-bamboo-green-32-gb/p/itmfcf69b2db5059?pid=MOBGF37G7FRK8FBJ&lid=LSTMOBGF37G7FRK8FBJLNLFYW&marketplace=FLIPKART&q=pixel+4A&store=tyy%2F4io&spotlightTagId=BestvalueId_tyy%2F4io&srno=s_1_8&otracker=search&otracker1=search&fm=organic&iid=2ff65082-2e01-4f36-a8cc-2f66015582e1.MOBGF37G7FRK8FBJ.SEARCH&ppt=hp&ppn=homepage&ssid=7t9xqyth5s0000001672065406020&qH=9b26a23b2cff510d',\n",
       " 'https://www.flipkart.com/realme-c30-bamboo-green-32-gb/p/itmfcf69b2db5059?pid=MOBGF37GUWGZQYGR&lid=LSTMOBGF37GUWGZQYGRW97HI6&marketplace=FLIPKART&q=pixel+4A&store=tyy%2F4io&srno=s_1_9&otracker=search&otracker1=search&fm=organic&iid=2ff65082-2e01-4f36-a8cc-2f66015582e1.MOBGF37GUWGZQYGR.SEARCH&ppt=hp&ppn=homepage&ssid=7t9xqyth5s0000001672065406020&qH=9b26a23b2cff510d',\n",
       " 'https://www.flipkart.com/realme-c30-lake-blue-32-gb/p/itmfcf69b2db5059?pid=MOBGF37GWT4TGVZM&lid=LSTMOBGF37GWT4TGVZM1IFYZO&marketplace=FLIPKART&q=pixel+4A&store=tyy%2F4io&srno=s_1_10&otracker=search&otracker1=search&fm=organic&iid=2ff65082-2e01-4f36-a8cc-2f66015582e1.MOBGF37GWT4TGVZM.SEARCH&ppt=hp&ppn=homepage&ssid=7t9xqyth5s0000001672065406020&qH=9b26a23b2cff510d',\n",
       " 'https://www.flipkart.com/realme-10-pro-5g-hyperspace-128-gb/p/itm1e672d12a252e?pid=MOBGK8VHZPVGJCES&lid=LSTMOBGK8VHZPVGJCES9YRIWN&marketplace=FLIPKART&q=pixel+4A&store=tyy%2F4io&srno=s_1_11&otracker=search&otracker1=search&fm=organic&iid=2ff65082-2e01-4f36-a8cc-2f66015582e1.MOBGK8VHZPVGJCES.SEARCH&ppt=hp&ppn=homepage&ssid=7t9xqyth5s0000001672065406020&qH=9b26a23b2cff510d',\n",
       " 'https://www.flipkart.com/realme-10-pro-5g-nebula-blue-128-gb/p/itm1e672d12a252e?pid=MOBGK8VHHFY5VCAY&lid=LSTMOBGK8VHHFY5VCAYOXEXVI&marketplace=FLIPKART&q=pixel+4A&store=tyy%2F4io&srno=s_1_12&otracker=search&otracker1=search&fm=organic&iid=2ff65082-2e01-4f36-a8cc-2f66015582e1.MOBGK8VHHFY5VCAY.SEARCH&ppt=hp&ppn=homepage&ssid=7t9xqyth5s0000001672065406020&qH=9b26a23b2cff510d',\n",
       " 'https://www.flipkart.com/realme-10-pro-5g-dark-matter-128-gb/p/itm1e672d12a252e?pid=MOBGK8VHWBRKYFJD&lid=LSTMOBGK8VHWBRKYFJDTEBOFU&marketplace=FLIPKART&q=pixel+4A&store=tyy%2F4io&srno=s_1_13&otracker=search&otracker1=search&fm=organic&iid=2ff65082-2e01-4f36-a8cc-2f66015582e1.MOBGK8VHWBRKYFJD.SEARCH&ppt=hp&ppn=homepage&ssid=7t9xqyth5s0000001672065406020&qH=9b26a23b2cff510d',\n",
       " 'https://www.flipkart.com/realme-c30-denim-black-32-gb/p/itmfcf69b2db5059?pid=MOBGF37GMBMYRFBK&lid=LSTMOBGF37GMBMYRFBKNVTNSG&marketplace=FLIPKART&q=pixel+4A&store=tyy%2F4io&srno=s_1_14&otracker=search&otracker1=search&fm=organic&iid=2ff65082-2e01-4f36-a8cc-2f66015582e1.MOBGF37GMBMYRFBK.SEARCH&ppt=hp&ppn=homepage&ssid=7t9xqyth5s0000001672065406020&qH=9b26a23b2cff510d',\n",
       " 'https://www.flipkart.com/vivo-t1-44w-starry-sky-128-gb/p/itm2a08ebbea3689?pid=MOBGDRHVMW2UDXZY&lid=LSTMOBGDRHVMW2UDXZYJR2BWY&marketplace=FLIPKART&q=pixel+4A&store=tyy%2F4io&srno=s_1_15&otracker=search&otracker1=search&fm=organic&iid=2ff65082-2e01-4f36-a8cc-2f66015582e1.MOBGDRHVMW2UDXZY.SEARCH&ppt=hp&ppn=homepage&ssid=7t9xqyth5s0000001672065406020&qH=9b26a23b2cff510d',\n",
       " 'https://www.flipkart.com/realme-10-pro-5g-hyperspace-128-gb/p/itmd32a2fec1fb60?pid=MOBGK8WZAAWCVVGZ&lid=LSTMOBGK8WZAAWCVVGZSRDO9R&marketplace=FLIPKART&q=pixel+4A&store=tyy%2F4io&srno=s_1_16&otracker=search&otracker1=search&fm=organic&iid=2ff65082-2e01-4f36-a8cc-2f66015582e1.MOBGK8WZAAWCVVGZ.SEARCH&ppt=hp&ppn=homepage&ssid=7t9xqyth5s0000001672065406020&qH=9b26a23b2cff510d',\n",
       " 'https://www.flipkart.com/realme-c33-sandy-gold-32-gb/p/itma112335dbe78a?pid=MOBGHBJGF9QZYSZX&lid=LSTMOBGHBJGF9QZYSZXROLVZH&marketplace=FLIPKART&q=pixel+4A&store=tyy%2F4io&srno=s_1_17&otracker=search&otracker1=search&fm=organic&iid=2ff65082-2e01-4f36-a8cc-2f66015582e1.MOBGHBJGF9QZYSZX.SEARCH&ppt=hp&ppn=homepage&ssid=7t9xqyth5s0000001672065406020&qH=9b26a23b2cff510d',\n",
       " 'https://www.flipkart.com/realme-c33-night-sea-32-gb/p/itma112335dbe78a?pid=MOBGHBJGGVPHHTYQ&lid=LSTMOBGHBJGGVPHHTYQPKXLM2&marketplace=FLIPKART&q=pixel+4A&store=tyy%2F4io&srno=s_1_18&otracker=search&otracker1=search&fm=organic&iid=2ff65082-2e01-4f36-a8cc-2f66015582e1.MOBGHBJGGVPHHTYQ.SEARCH&ppt=hp&ppn=homepage&ssid=7t9xqyth5s0000001672065406020&qH=9b26a23b2cff510d',\n",
       " 'https://www.flipkart.com/micromax-2c-silver-32-gb/p/itm1c641ec8dd5c0?pid=MOBGDCF2YFVMYUCZ&lid=LSTMOBGDCF2YFVMYUCZSZGJJH&marketplace=FLIPKART&q=pixel+4A&store=tyy%2F4io&srno=s_1_19&otracker=search&otracker1=search&fm=organic&iid=2ff65082-2e01-4f36-a8cc-2f66015582e1.MOBGDCF2YFVMYUCZ.SEARCH&ppt=hp&ppn=homepage&ssid=7t9xqyth5s0000001672065406020&qH=9b26a23b2cff510d',\n",
       " 'https://www.flipkart.com/vivo-t1-44w-midnight-galaxy-128-gb/p/itm2a08ebbea3689?pid=MOBGDRHVWJUFTYQJ&lid=LSTMOBGDRHVWJUFTYQJ2SYXAC&marketplace=FLIPKART&q=pixel+4A&store=tyy%2F4io&srno=s_1_20&otracker=search&otracker1=search&fm=organic&iid=2ff65082-2e01-4f36-a8cc-2f66015582e1.MOBGDRHVWJUFTYQJ.SEARCH&ppt=hp&ppn=homepage&ssid=7t9xqyth5s0000001672065406020&qH=9b26a23b2cff510d',\n",
       " 'https://www.flipkart.com/realme-10-pro-5g-dark-matter-128-gb/p/itmd32a2fec1fb60?pid=MOBGK8WZ6FQR4YCJ&lid=LSTMOBGK8WZ6FQR4YCJHEJKXL&marketplace=FLIPKART&q=pixel+4A&store=tyy%2F4io&srno=s_1_21&otracker=search&otracker1=search&fm=organic&iid=2ff65082-2e01-4f36-a8cc-2f66015582e1.MOBGK8WZ6FQR4YCJ.SEARCH&ppt=hp&ppn=homepage&ssid=7t9xqyth5s0000001672065406020&qH=9b26a23b2cff510d',\n",
       " 'https://www.flipkart.com/realme-10-pro-5g-hyperspace-128-gb/p/itmd32a2fec1fb60?pid=MOBGK8WZQJXDBDFF&lid=LSTMOBGK8WZQJXDBDFFRPKQRO&marketplace=FLIPKART&q=pixel+4A&store=tyy%2F4io&srno=s_1_22&otracker=search&otracker1=search&fm=organic&iid=2ff65082-2e01-4f36-a8cc-2f66015582e1.MOBGK8WZQJXDBDFF.SEARCH&ppt=hp&ppn=homepage&ssid=7t9xqyth5s0000001672065406020&qH=9b26a23b2cff510d',\n",
       " 'https://www.flipkart.com/realme-c30-locked-airtel-prepaid-bamboo-green-32-gb/p/itm938b2a52e171f?pid=MOBGFCFQXDH5NZGU&lid=LSTMOBGFCFQXDH5NZGUMBWKGV&marketplace=FLIPKART&q=pixel+4A&store=tyy%2F4io&srno=s_1_23&otracker=search&otracker1=search&fm=organic&iid=2ff65082-2e01-4f36-a8cc-2f66015582e1.MOBGFCFQXDH5NZGU.SEARCH&ppt=hp&ppn=homepage&ssid=7t9xqyth5s0000001672065406020&qH=9b26a23b2cff510d',\n",
       " 'https://www.flipkart.com/realme-c30-locked-airtel-prepaid-lake-blue-32-gb/p/itm938b2a52e171f?pid=MOBGFCFQZGEUXH35&lid=LSTMOBGFCFQZGEUXH35331CCP&marketplace=FLIPKART&q=pixel+4A&store=tyy%2F4io&srno=s_1_24&otracker=search&otracker1=search&fm=organic&iid=2ff65082-2e01-4f36-a8cc-2f66015582e1.MOBGFCFQZGEUXH35.SEARCH&ppt=hp&ppn=homepage&ssid=7t9xqyth5s0000001672065406020&qH=9b26a23b2cff510d']"
      ]
     },
     "execution_count": 24,
     "metadata": {},
     "output_type": "execute_result"
    }
   ],
   "source": [
    "product_urls"
   ]
  },
  {
   "cell_type": "code",
   "execution_count": 25,
   "id": "0dd4416f",
   "metadata": {},
   "outputs": [],
   "source": [
    "Brand=[]\n",
    "\n",
    "for url in product_urls:\n",
    "    driver.get(url)\n",
    "    time.sleep(2)\n",
    "    \n",
    "    try:\n",
    "        brand = driver.find_element(By.XPATH,'//span[@class=\"B_NuCI\"]')\n",
    "        Brand.append(brand.text)\n",
    "    except NoSuchElementException:\n",
    "        Brand.append('-')"
   ]
  },
  {
   "cell_type": "code",
   "execution_count": 34,
   "id": "bc733c05",
   "metadata": {},
   "outputs": [],
   "source": [
    "Phone_name = []\n",
    "\n",
    "for  url in product_urls:\n",
    "    driver.get(url)\n",
    "    time.sleep(2)\n",
    "    \n",
    "    try:\n",
    "        name = driver.find_element(By.XPATH,'//div[@class=\"_3k-BhJ\"][1]/table/tbody/tr[3]/td[2]/ul/li')\n",
    "        Phone_name.append(name.text)\n",
    "    except NoSuchElementException:\n",
    "        Phone_name.append('-')"
   ]
  },
  {
   "cell_type": "code",
   "execution_count": 36,
   "id": "40103632",
   "metadata": {},
   "outputs": [],
   "source": [
    "Colour = []\n",
    "\n",
    "for url in product_urls:\n",
    "    driver.get(url)\n",
    "    time.sleep(2)\n",
    "    \n",
    "    try:\n",
    "        colour = driver.find_element(By.XPATH,\"//div[@class='_3k-BhJ'][1]/table/tbody/tr[4]/td[2]/ul/li\")\n",
    "        Colour.append(colour.text)\n",
    "    except NoSuchElementException:\n",
    "        Colour.append('-')\n"
   ]
  },
  {
   "cell_type": "code",
   "execution_count": 37,
   "id": "2f0012eb",
   "metadata": {},
   "outputs": [],
   "source": [
    "RAM = []\n",
    "\n",
    "for url in product_urls:\n",
    "    driver.get(url)\n",
    "    time.sleep(2)\n",
    "    \n",
    "    try:\n",
    "        ram = driver.find_element(By.XPATH,'//div[@class=\"_3k-BhJ\"][4]/table[1]/tbody/tr[2]/td[2]/ul/li')\n",
    "        RAM.append(ram.text)\n",
    "    except NoSuchElementException:\n",
    "        RAM.append('-')\n",
    "        \n",
    "     "
   ]
  },
  {
   "cell_type": "code",
   "execution_count": 38,
   "id": "a98db180",
   "metadata": {},
   "outputs": [],
   "source": [
    "Storage = []\n",
    "\n",
    "for url in product_urls:\n",
    "    driver.get(url)\n",
    "    time.sleep(2)\n",
    "    \n",
    "    try:\n",
    "        storage = driver.find_element(By.XPATH,'//div[@class=\"_3k-BhJ\"][4]/table[1]/tbody/tr[1]/td[2]/ul/li')\n",
    "        Storage.append(storage.text)\n",
    "    except NoSuchElementException:\n",
    "        Storage.append('-')"
   ]
  },
  {
   "cell_type": "code",
   "execution_count": 41,
   "id": "ce7213d3",
   "metadata": {},
   "outputs": [],
   "source": [
    "Primary_Camera = []\n",
    "\n",
    "for url in product_urls:\n",
    "    driver.get(url)\n",
    "    time.sleep(2)\n",
    "    \n",
    "    try:\n",
    "        camera = driver.find_element(By.XPATH,'//div[@class=\"_3k-BhJ\"][5]/table[1]/tbody/tr[2]/td[2]/ul/li')\n",
    "        Primary_Camera.append(camera.text)\n",
    "    except NoSuchElementException:\n",
    "        Primary_Camera.append('-')"
   ]
  },
  {
   "cell_type": "code",
   "execution_count": 44,
   "id": "dda7ff35",
   "metadata": {},
   "outputs": [
    {
     "data": {
      "text/html": [
       "<div>\n",
       "<style scoped>\n",
       "    .dataframe tbody tr th:only-of-type {\n",
       "        vertical-align: middle;\n",
       "    }\n",
       "\n",
       "    .dataframe tbody tr th {\n",
       "        vertical-align: top;\n",
       "    }\n",
       "\n",
       "    .dataframe thead th {\n",
       "        text-align: right;\n",
       "    }\n",
       "</style>\n",
       "<table border=\"1\" class=\"dataframe\">\n",
       "  <thead>\n",
       "    <tr style=\"text-align: right;\">\n",
       "      <th></th>\n",
       "      <th>Brand</th>\n",
       "      <th>Phone_name</th>\n",
       "      <th>colour</th>\n",
       "      <th>RAM</th>\n",
       "      <th>Storage</th>\n",
       "      <th>Primary_Camera</th>\n",
       "    </tr>\n",
       "  </thead>\n",
       "  <tbody>\n",
       "    <tr>\n",
       "      <th>0</th>\n",
       "      <td>Google Pixel 4a (Just Black, 128 GB)  (6 GB RAM)</td>\n",
       "      <td>Pixel 4a</td>\n",
       "      <td>Just Black</td>\n",
       "      <td></td>\n",
       "      <td></td>\n",
       "      <td></td>\n",
       "    </tr>\n",
       "    <tr>\n",
       "      <th>1</th>\n",
       "      <td>vivo T1 44W (Midnight Galaxy, 128 GB)  (4 GB RAM)</td>\n",
       "      <td>T1 44W</td>\n",
       "      <td>Midnight Galaxy</td>\n",
       "      <td></td>\n",
       "      <td></td>\n",
       "      <td></td>\n",
       "    </tr>\n",
       "    <tr>\n",
       "      <th>2</th>\n",
       "      <td>vivo T1 44W (Starry Sky, 128 GB)  (4 GB RAM)</td>\n",
       "      <td>T1 44W</td>\n",
       "      <td>Starry Sky</td>\n",
       "      <td></td>\n",
       "      <td></td>\n",
       "      <td></td>\n",
       "    </tr>\n",
       "    <tr>\n",
       "      <th>3</th>\n",
       "      <td>vivo T1 44W (Ice Dawn, 128 GB)  (4 GB RAM)</td>\n",
       "      <td>T1 44W</td>\n",
       "      <td>Ice Dawn</td>\n",
       "      <td></td>\n",
       "      <td></td>\n",
       "      <td></td>\n",
       "    </tr>\n",
       "    <tr>\n",
       "      <th>4</th>\n",
       "      <td>realme C30 (Lake Blue, 32 GB)  (2 GB RAM)</td>\n",
       "      <td>C30</td>\n",
       "      <td>Lake Blue</td>\n",
       "      <td></td>\n",
       "      <td></td>\n",
       "      <td></td>\n",
       "    </tr>\n",
       "    <tr>\n",
       "      <th>5</th>\n",
       "      <td>vivo T1 44W (Midnight Galaxy, 128 GB)  (6 GB RAM)</td>\n",
       "      <td>T1 44W</td>\n",
       "      <td>Midnight Galaxy</td>\n",
       "      <td></td>\n",
       "      <td></td>\n",
       "      <td></td>\n",
       "    </tr>\n",
       "    <tr>\n",
       "      <th>6</th>\n",
       "      <td>realme C30 (Denim Black, 32 GB)  (2 GB RAM)</td>\n",
       "      <td>C30</td>\n",
       "      <td>Denim Black</td>\n",
       "      <td></td>\n",
       "      <td></td>\n",
       "      <td></td>\n",
       "    </tr>\n",
       "    <tr>\n",
       "      <th>7</th>\n",
       "      <td>realme C30 (Bamboo Green, 32 GB)  (2 GB RAM)</td>\n",
       "      <td>C30</td>\n",
       "      <td>Bamboo Green</td>\n",
       "      <td></td>\n",
       "      <td></td>\n",
       "      <td></td>\n",
       "    </tr>\n",
       "    <tr>\n",
       "      <th>8</th>\n",
       "      <td>realme C30 (Bamboo Green, 32 GB)  (3 GB RAM)</td>\n",
       "      <td>C30</td>\n",
       "      <td>Bamboo Green</td>\n",
       "      <td></td>\n",
       "      <td></td>\n",
       "      <td></td>\n",
       "    </tr>\n",
       "    <tr>\n",
       "      <th>9</th>\n",
       "      <td>realme C30 (Lake Blue, 32 GB)  (3 GB RAM)</td>\n",
       "      <td>C30</td>\n",
       "      <td>Lake Blue</td>\n",
       "      <td></td>\n",
       "      <td></td>\n",
       "      <td></td>\n",
       "    </tr>\n",
       "    <tr>\n",
       "      <th>10</th>\n",
       "      <td>realme 10 Pro 5G (Hyperspace, 128 GB)  (8 GB RAM)</td>\n",
       "      <td>10 Pro 5G</td>\n",
       "      <td>Hyperspace</td>\n",
       "      <td></td>\n",
       "      <td></td>\n",
       "      <td></td>\n",
       "    </tr>\n",
       "    <tr>\n",
       "      <th>11</th>\n",
       "      <td>realme 10 Pro 5G (Nebula Blue, 128 GB)  (8 GB ...</td>\n",
       "      <td>10 Pro 5G</td>\n",
       "      <td>Nebula Blue</td>\n",
       "      <td></td>\n",
       "      <td></td>\n",
       "      <td></td>\n",
       "    </tr>\n",
       "    <tr>\n",
       "      <th>12</th>\n",
       "      <td>realme 10 Pro 5G (Dark Matter, 128 GB)  (6 GB ...</td>\n",
       "      <td>10 Pro 5G</td>\n",
       "      <td>Dark Matter</td>\n",
       "      <td></td>\n",
       "      <td></td>\n",
       "      <td></td>\n",
       "    </tr>\n",
       "    <tr>\n",
       "      <th>13</th>\n",
       "      <td>realme C30 (Denim Black, 32 GB)  (3 GB RAM)</td>\n",
       "      <td>C30</td>\n",
       "      <td>Denim Black</td>\n",
       "      <td></td>\n",
       "      <td></td>\n",
       "      <td></td>\n",
       "    </tr>\n",
       "    <tr>\n",
       "      <th>14</th>\n",
       "      <td>vivo T1 44W (Starry Sky, 128 GB)  (6 GB RAM)</td>\n",
       "      <td>T1 44W</td>\n",
       "      <td>Starry Sky</td>\n",
       "      <td></td>\n",
       "      <td></td>\n",
       "      <td></td>\n",
       "    </tr>\n",
       "    <tr>\n",
       "      <th>15</th>\n",
       "      <td>realme 10 Pro+ 5G (Hyperspace, 128 GB)  (8 GB ...</td>\n",
       "      <td>10 Pro+ 5G</td>\n",
       "      <td>Hyperspace</td>\n",
       "      <td></td>\n",
       "      <td></td>\n",
       "      <td></td>\n",
       "    </tr>\n",
       "    <tr>\n",
       "      <th>16</th>\n",
       "      <td>realme C33 (Sandy Gold, 32 GB)  (3 GB RAM)</td>\n",
       "      <td>C33</td>\n",
       "      <td>Sandy Gold</td>\n",
       "      <td></td>\n",
       "      <td></td>\n",
       "      <td></td>\n",
       "    </tr>\n",
       "    <tr>\n",
       "      <th>17</th>\n",
       "      <td>realme C33 (Night Sea, 32 GB)  (3 GB RAM)</td>\n",
       "      <td>C33</td>\n",
       "      <td>Night Sea</td>\n",
       "      <td></td>\n",
       "      <td></td>\n",
       "      <td></td>\n",
       "    </tr>\n",
       "    <tr>\n",
       "      <th>18</th>\n",
       "      <td>Micromax IN 2C (Silver, 32 GB)  (3 GB RAM)</td>\n",
       "      <td>IN 2C</td>\n",
       "      <td>Silver</td>\n",
       "      <td></td>\n",
       "      <td></td>\n",
       "      <td></td>\n",
       "    </tr>\n",
       "    <tr>\n",
       "      <th>19</th>\n",
       "      <td>vivo T1 44W (Midnight Galaxy, 128 GB)  (8 GB RAM)</td>\n",
       "      <td>T1 44W</td>\n",
       "      <td>Midnight Galaxy</td>\n",
       "      <td></td>\n",
       "      <td></td>\n",
       "      <td></td>\n",
       "    </tr>\n",
       "    <tr>\n",
       "      <th>20</th>\n",
       "      <td>realme 10 Pro+ 5G (Dark Matter, 128 GB)  (6 GB...</td>\n",
       "      <td>10 Pro+ 5G</td>\n",
       "      <td>Dark Matter</td>\n",
       "      <td></td>\n",
       "      <td></td>\n",
       "      <td></td>\n",
       "    </tr>\n",
       "    <tr>\n",
       "      <th>21</th>\n",
       "      <td>realme 10 Pro+ 5G (Hyperspace, 128 GB)  (6 GB ...</td>\n",
       "      <td>10 Pro+ 5G</td>\n",
       "      <td>Hyperspace</td>\n",
       "      <td></td>\n",
       "      <td></td>\n",
       "      <td></td>\n",
       "    </tr>\n",
       "    <tr>\n",
       "      <th>22</th>\n",
       "      <td>Realme C30 - Locked with Airtel Prepaid (Bambo...</td>\n",
       "      <td>C30</td>\n",
       "      <td>Bamboo Green</td>\n",
       "      <td></td>\n",
       "      <td></td>\n",
       "      <td></td>\n",
       "    </tr>\n",
       "    <tr>\n",
       "      <th>23</th>\n",
       "      <td>Realme C30 - Locked with Airtel Prepaid (Lake ...</td>\n",
       "      <td>C30</td>\n",
       "      <td>Lake Blue</td>\n",
       "      <td></td>\n",
       "      <td></td>\n",
       "      <td></td>\n",
       "    </tr>\n",
       "  </tbody>\n",
       "</table>\n",
       "</div>"
      ],
      "text/plain": [
       "                                                Brand  Phone_name  \\\n",
       "0    Google Pixel 4a (Just Black, 128 GB)  (6 GB RAM)    Pixel 4a   \n",
       "1   vivo T1 44W (Midnight Galaxy, 128 GB)  (4 GB RAM)      T1 44W   \n",
       "2        vivo T1 44W (Starry Sky, 128 GB)  (4 GB RAM)      T1 44W   \n",
       "3          vivo T1 44W (Ice Dawn, 128 GB)  (4 GB RAM)      T1 44W   \n",
       "4           realme C30 (Lake Blue, 32 GB)  (2 GB RAM)         C30   \n",
       "5   vivo T1 44W (Midnight Galaxy, 128 GB)  (6 GB RAM)      T1 44W   \n",
       "6         realme C30 (Denim Black, 32 GB)  (2 GB RAM)         C30   \n",
       "7        realme C30 (Bamboo Green, 32 GB)  (2 GB RAM)         C30   \n",
       "8        realme C30 (Bamboo Green, 32 GB)  (3 GB RAM)         C30   \n",
       "9           realme C30 (Lake Blue, 32 GB)  (3 GB RAM)         C30   \n",
       "10  realme 10 Pro 5G (Hyperspace, 128 GB)  (8 GB RAM)   10 Pro 5G   \n",
       "11  realme 10 Pro 5G (Nebula Blue, 128 GB)  (8 GB ...   10 Pro 5G   \n",
       "12  realme 10 Pro 5G (Dark Matter, 128 GB)  (6 GB ...   10 Pro 5G   \n",
       "13        realme C30 (Denim Black, 32 GB)  (3 GB RAM)         C30   \n",
       "14       vivo T1 44W (Starry Sky, 128 GB)  (6 GB RAM)      T1 44W   \n",
       "15  realme 10 Pro+ 5G (Hyperspace, 128 GB)  (8 GB ...  10 Pro+ 5G   \n",
       "16         realme C33 (Sandy Gold, 32 GB)  (3 GB RAM)         C33   \n",
       "17          realme C33 (Night Sea, 32 GB)  (3 GB RAM)         C33   \n",
       "18         Micromax IN 2C (Silver, 32 GB)  (3 GB RAM)       IN 2C   \n",
       "19  vivo T1 44W (Midnight Galaxy, 128 GB)  (8 GB RAM)      T1 44W   \n",
       "20  realme 10 Pro+ 5G (Dark Matter, 128 GB)  (6 GB...  10 Pro+ 5G   \n",
       "21  realme 10 Pro+ 5G (Hyperspace, 128 GB)  (6 GB ...  10 Pro+ 5G   \n",
       "22  Realme C30 - Locked with Airtel Prepaid (Bambo...         C30   \n",
       "23  Realme C30 - Locked with Airtel Prepaid (Lake ...         C30   \n",
       "\n",
       "             colour RAM Storage Primary_Camera  \n",
       "0        Just Black                             \n",
       "1   Midnight Galaxy                             \n",
       "2        Starry Sky                             \n",
       "3          Ice Dawn                             \n",
       "4         Lake Blue                             \n",
       "5   Midnight Galaxy                             \n",
       "6       Denim Black                             \n",
       "7      Bamboo Green                             \n",
       "8      Bamboo Green                             \n",
       "9         Lake Blue                             \n",
       "10       Hyperspace                             \n",
       "11      Nebula Blue                             \n",
       "12      Dark Matter                             \n",
       "13      Denim Black                             \n",
       "14       Starry Sky                             \n",
       "15       Hyperspace                             \n",
       "16       Sandy Gold                             \n",
       "17        Night Sea                             \n",
       "18           Silver                             \n",
       "19  Midnight Galaxy                             \n",
       "20      Dark Matter                             \n",
       "21       Hyperspace                             \n",
       "22     Bamboo Green                             \n",
       "23        Lake Blue                             "
      ]
     },
     "execution_count": 44,
     "metadata": {},
     "output_type": "execute_result"
    }
   ],
   "source": [
    "import pandas as pd\n",
    "\n",
    "df2 = pd.DataFrame({'Brand':Brand,'Phone_name':Phone_name,'colour':Colour,'RAM':RAM,'Storage':Storage,'Primary_Camera':Primary_Camera})\n",
    "df2"
   ]
  },
  {
   "cell_type": "markdown",
   "id": "4fb33af5",
   "metadata": {},
   "source": [
    "# QUESTION 5"
   ]
  },
  {
   "cell_type": "code",
   "execution_count": 46,
   "id": "b6f2127f",
   "metadata": {},
   "outputs": [],
   "source": [
    "driver = webdriver.Chrome(r\"C:\\Users\\Kavisha\\Downloads\\chromedriver_win32 (3)\\chromedriver.exe\")"
   ]
  },
  {
   "cell_type": "code",
   "execution_count": 47,
   "id": "294956f4",
   "metadata": {},
   "outputs": [],
   "source": [
    "driver.get('https://www.google.co.in/maps')"
   ]
  },
  {
   "cell_type": "code",
   "execution_count": 50,
   "id": "f4cdfc57",
   "metadata": {},
   "outputs": [],
   "source": [
    "\n",
    "search_city = driver.find_element(By.XPATH,'//input[@class=\"searchboxinput xiQnY\"]')\n",
    "search_city.send_keys(\"Pune\")\n",
    "\n",
    "\n"
   ]
  },
  {
   "cell_type": "code",
   "execution_count": 51,
   "id": "dbe3d65f",
   "metadata": {},
   "outputs": [],
   "source": [
    "search_btn = driver.find_element(By.XPATH,'//button[@class=\"mL3xi\"]')\n",
    "search_btn.click()\n",
    "\n"
   ]
  },
  {
   "cell_type": "code",
   "execution_count": 55,
   "id": "ae92bba7",
   "metadata": {
    "scrolled": true
   },
   "outputs": [
    {
     "name": "stdout",
     "output_type": "stream",
     "text": [
      "URL Extracted:  https://www.google.co.in/maps/place/Pune,+Maharashtra/@18.5246165,73.8629674,11z/data=!3m1!4b1!4m5!3m4!1s0x3bc2bf2e67461101:0x828d43bf9d9ee343!8m2!3d18.5204303!4d73.8567437\n",
      "Error:  name 're' is not defined\n"
     ]
    }
   ],
   "source": [
    "try:\n",
    "    url_string = driver.current_url\n",
    "    print(\"URL Extracted: \", url_str)\n",
    "    latitude_longitude = re.findall(r'@(.*)data',url_string)\n",
    "    if len(latitude_longitude):\n",
    "        lat_lng_list = latitude_longitude[0].split(\",\")\n",
    "        if len(lat_lng_list)>=2:\n",
    "            latitude = lat_lng_list[0]\n",
    "            longitude = lat_lng_list[1]\n",
    "        print(\"Latitude = {}, Longitude = {}\".format(latitude, longitude))\n",
    "except Exception as e:\n",
    "        print(\"Error: \", str(e))"
   ]
  },
  {
   "cell_type": "markdown",
   "id": "ac69580a",
   "metadata": {},
   "source": [
    "# question 7"
   ]
  },
  {
   "cell_type": "code",
   "execution_count": 58,
   "id": "6613892e",
   "metadata": {},
   "outputs": [],
   "source": [
    "driver = webdriver.Chrome(r\"C:\\Users\\Kavisha\\Downloads\\chromedriver_win32 (3)\\chromedriver.exe\")"
   ]
  },
  {
   "cell_type": "code",
   "execution_count": 59,
   "id": "adf9c082",
   "metadata": {},
   "outputs": [],
   "source": [
    "driver.get('https://www.digit.in/')"
   ]
  },
  {
   "cell_type": "code",
   "execution_count": 61,
   "id": "4ae0f5a4",
   "metadata": {},
   "outputs": [],
   "source": [
    "best_gam_laptops = driver.find_element(By.XPATH,\"//div[@class='listing_container']//ul//li[9]\").click()\n",
    "time.sleep(3)"
   ]
  },
  {
   "cell_type": "code",
   "execution_count": 62,
   "id": "c6bb43b7",
   "metadata": {},
   "outputs": [],
   "source": [
    "Laptop_Name = []\n",
    "Operating_sys = []\n",
    "Display = []\n",
    "Processor = []\n",
    "Memory = []\n",
    "Price = []"
   ]
  },
  {
   "cell_type": "code",
   "execution_count": 82,
   "id": "5f3f379e",
   "metadata": {},
   "outputs": [],
   "source": [
    "laptop_name = driver.find_elements(By.XPATH,\"//div[@class='right-container']/div/a/h3\")\n",
    "for name in laptop_name:\n",
    "    Laptop_Name.append(name.text)\n",
    "    "
   ]
  },
  {
   "cell_type": "code",
   "execution_count": 73,
   "id": "fce6a34e",
   "metadata": {},
   "outputs": [],
   "source": [
    "try:\n",
    "    op_sys = driver.find_elements(By.XPATH,\"//div[@class='product-detail']/div/ul/li[1]/div/div\")\n",
    "    for os in op_sys:\n",
    "        Operating_sys.append(os.text)\n",
    "except NoSuchElementException:\n",
    "    pass"
   ]
  },
  {
   "cell_type": "code",
   "execution_count": 74,
   "id": "8aaac5f0",
   "metadata": {},
   "outputs": [],
   "source": [
    "try:\n",
    "    display = driver.find_elements(By.XPATH,\"//div[@class='product-detail']/div/ul/li[2]/div/div\")\n",
    "    for disp in display:\n",
    "        Display.append(disp.text)\n",
    "except NoSuchElementException:\n",
    "    pass"
   ]
  },
  {
   "cell_type": "code",
   "execution_count": 75,
   "id": "271810d9",
   "metadata": {},
   "outputs": [],
   "source": [
    "try:\n",
    "    processor = driver.find_elements(By.XPATH,\"//div[@class='Spcs-details'][1]/table/tbody/tr[5]/td[3]\")\n",
    "    for pro in processor:\n",
    "        Processor.append(pro.text)\n",
    "except NoSuchElementException:\n",
    "    pass"
   ]
  },
  {
   "cell_type": "code",
   "execution_count": 76,
   "id": "0e68fdf2",
   "metadata": {},
   "outputs": [],
   "source": [
    "try:\n",
    "    memory = driver.find_elements(By.XPATH,\"//div[@class='Spcs-details'][1]/table/tbody/tr[6]/td[3]\")\n",
    "    for memo in memory:\n",
    "        Memory.append(memo.text)\n",
    "except NoSuchElementException:\n",
    "    pass"
   ]
  },
  {
   "cell_type": "code",
   "execution_count": 79,
   "id": "3f1ee5d8",
   "metadata": {},
   "outputs": [],
   "source": [
    "try:\n",
    "    price = driver.find_elements(By.XPATH,\"//td[@class='smprice']\")\n",
    "    for pri in price:\n",
    "        Price.append(pri.text.replace('₹ ','Rs'))\n",
    "except NoSuchElementException:\n",
    "    pass"
   ]
  },
  {
   "cell_type": "markdown",
   "id": "2801a134",
   "metadata": {},
   "source": [
    "# QUESTION 8"
   ]
  },
  {
   "cell_type": "code",
   "execution_count": 3,
   "id": "54d26645",
   "metadata": {},
   "outputs": [],
   "source": [
    "driver = webdriver.Chrome(r\"C:\\Users\\Kavisha\\Downloads\\chromedriver_win32 (3)\\chromedriver.exe\")"
   ]
  },
  {
   "cell_type": "code",
   "execution_count": 4,
   "id": "e31b6fd6",
   "metadata": {},
   "outputs": [],
   "source": [
    "driver.get('http://www.forbes.com/')"
   ]
  },
  {
   "cell_type": "code",
   "execution_count": 5,
   "id": "85319ffe",
   "metadata": {},
   "outputs": [],
   "source": [
    "Rank = []\n",
    "Person_Name = []\n",
    "Net_worth = []\n",
    "Age = []\n",
    "Citizenship = []\n",
    "Source = []\n",
    "Industry = []\n"
   ]
  },
  {
   "cell_type": "code",
   "execution_count": null,
   "id": "7c277805",
   "metadata": {},
   "outputs": [],
   "source": [
    "while(True):\n",
    "    \n",
    "    # scraping the data of rank of the billionaires\n",
    "    rank_tag = driver.find_elements(By.XPATH,\"//div[@class='rank']\")\n",
    "    for rank in rank_tag:\n",
    "        Rank.append(rank.text)\n",
    "    time.sleep(1)\n",
    "    \n",
    "    \n",
    " \n",
    "    # scraping the data  of names of the billionaires\n",
    "    name_tag = driver.find_elements(By.XPATH,\"//div[@class='personName']/div\")\n",
    "    for name in name_tag:\n",
    "        Person_Name.append(name.text)\n",
    "    time.sleep(1)\n",
    "    \n",
    "    \n",
    "    # scraping the data of age of the billionaires\n",
    "    age_tag = driver.find_elements(By.XPATH,\"//div[@class='age']/div\")\n",
    "    for age in age_tag:\n",
    "        Age.append(age.text)\n",
    "    time.sleep(1)\n",
    "    \n",
    "    \n",
    "    # scraping the data of citizenship of the billionaires\n",
    "    cit_tag = driver.find_elements(By.XPATH,\"//div[@class='countryOfCitizenship']\")\n",
    "    for cit in cit_tag:\n",
    "        Citizenship.append(cit.text)\n",
    "    time.sleep(1)"
   ]
  },
  {
   "cell_type": "code",
   "execution_count": null,
   "id": "5256f7ab",
   "metadata": {},
   "outputs": [],
   "source": [
    "  # scraping the data of source of income of the billionaires\n",
    "    sour_tag = driver.find_elements_by_xpath(\"//div[@class='source']\")\n",
    "    for sour in sour_tag:\n",
    "        Source.append(sour.text)\n",
    "    time.sleep(1)\n",
    "    \n",
    "    \n",
    "    # scraping data of industry of the billionaires\n",
    "    ind_tag = driver.find_elements_by_xpath(\"//div[@class='category']//div\")\n",
    "    for ind in ind_tag:\n",
    "        Industry.append(ind.text)\n",
    "    time.sleep(1)\n",
    "    \n",
    "    \n",
    "    # scraping data of net_worth of billionaires\n",
    "    net_tag = driver.find_elements_by_xpath(\"//div[@class='netWorth']/div\")\n",
    "    for net in net_tag:\n",
    "        Net_worth.append(net.text)\n",
    "    time.sleep(1)"
   ]
  }
 ],
 "metadata": {
  "kernelspec": {
   "display_name": "Python 3 (ipykernel)",
   "language": "python",
   "name": "python3"
  },
  "language_info": {
   "codemirror_mode": {
    "name": "ipython",
    "version": 3
   },
   "file_extension": ".py",
   "mimetype": "text/x-python",
   "name": "python",
   "nbconvert_exporter": "python",
   "pygments_lexer": "ipython3",
   "version": "3.9.12"
  }
 },
 "nbformat": 4,
 "nbformat_minor": 5
}
