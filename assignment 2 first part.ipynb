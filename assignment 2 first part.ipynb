{
 "cells": [
  {
   "cell_type": "code",
   "execution_count": 14,
   "id": "9748c7e5",
   "metadata": {},
   "outputs": [
    {
     "name": "stdout",
     "output_type": "stream",
     "text": [
      "Defaulting to user installation because normal site-packages is not writeable\n",
      "Requirement already satisfied: selenium in c:\\users\\kavisha\\appdata\\roaming\\python\\python39\\site-packages (4.7.2)\n",
      "Requirement already satisfied: certifi>=2021.10.8 in c:\\programdata\\anaconda3\\lib\\site-packages (from selenium) (2021.10.8)\n",
      "Requirement already satisfied: urllib3[socks]~=1.26 in c:\\programdata\\anaconda3\\lib\\site-packages (from selenium) (1.26.9)\n",
      "Requirement already satisfied: trio-websocket~=0.9 in c:\\users\\kavisha\\appdata\\roaming\\python\\python39\\site-packages (from selenium) (0.9.2)\n",
      "Requirement already satisfied: trio~=0.17 in c:\\users\\kavisha\\appdata\\roaming\\python\\python39\\site-packages (from selenium) (0.22.0)\n",
      "Requirement already satisfied: exceptiongroup>=1.0.0rc9 in c:\\users\\kavisha\\appdata\\roaming\\python\\python39\\site-packages (from trio~=0.17->selenium) (1.0.4)\n",
      "Requirement already satisfied: cffi>=1.14 in c:\\programdata\\anaconda3\\lib\\site-packages (from trio~=0.17->selenium) (1.15.0)\n",
      "Requirement already satisfied: sortedcontainers in c:\\programdata\\anaconda3\\lib\\site-packages (from trio~=0.17->selenium) (2.4.0)\n",
      "Requirement already satisfied: outcome in c:\\users\\kavisha\\appdata\\roaming\\python\\python39\\site-packages (from trio~=0.17->selenium) (1.2.0)\n",
      "Requirement already satisfied: idna in c:\\programdata\\anaconda3\\lib\\site-packages (from trio~=0.17->selenium) (3.3)\n",
      "Requirement already satisfied: sniffio in c:\\programdata\\anaconda3\\lib\\site-packages (from trio~=0.17->selenium) (1.2.0)\n",
      "Requirement already satisfied: async-generator>=1.9 in c:\\users\\kavisha\\appdata\\roaming\\python\\python39\\site-packages (from trio~=0.17->selenium) (1.10)\n",
      "Requirement already satisfied: attrs>=19.2.0 in c:\\programdata\\anaconda3\\lib\\site-packages (from trio~=0.17->selenium) (21.4.0)\n",
      "Requirement already satisfied: pycparser in c:\\programdata\\anaconda3\\lib\\site-packages (from cffi>=1.14->trio~=0.17->selenium) (2.21)\n",
      "Requirement already satisfied: wsproto>=0.14 in c:\\users\\kavisha\\appdata\\roaming\\python\\python39\\site-packages (from trio-websocket~=0.9->selenium) (1.2.0)\n",
      "Requirement already satisfied: PySocks!=1.5.7,<2.0,>=1.5.6 in c:\\programdata\\anaconda3\\lib\\site-packages (from urllib3[socks]~=1.26->selenium) (1.7.1)\n",
      "Requirement already satisfied: h11<1,>=0.9.0 in c:\\users\\kavisha\\appdata\\roaming\\python\\python39\\site-packages (from wsproto>=0.14->trio-websocket~=0.9->selenium) (0.14.0)\n"
     ]
    }
   ],
   "source": [
    "!pip install selenium"
   ]
  },
  {
   "cell_type": "code",
   "execution_count": 29,
   "id": "73f3b9ff",
   "metadata": {},
   "outputs": [],
   "source": [
    "import selenium \n",
    "import pandas as pd\n",
    "from selenium import webdriver\n",
    "import warnings\n",
    "warnings.filterwarnings('ignore')\n",
    "from selenium.common.exceptions import StaleElementReferenceException, NoSuchElementException\n",
    "from selenium.webdriver.common.by import By\n",
    "import time"
   ]
  },
  {
   "cell_type": "markdown",
   "id": "000e83bb",
   "metadata": {},
   "source": [
    "now we will download the webdriver for the webbrowser\n",
    "1. check the version of your browser \n",
    "go to the link https://chromedriver.chromium.org/downloads \n",
    "    download the webdriver for your version of your browser"
   ]
  },
  {
   "cell_type": "code",
   "execution_count": 30,
   "id": "e57a4e48",
   "metadata": {},
   "outputs": [],
   "source": [
    "driver = webdriver.Chrome(r\"C:\\Users\\Kavisha\\Downloads\\chromedriver_win32 (3)\\chromedriver.exe\")"
   ]
  },
  {
   "cell_type": "code",
   "execution_count": 31,
   "id": "df3de9e8",
   "metadata": {},
   "outputs": [],
   "source": [
    "driver.get(\"https://www.naukri.com/\")"
   ]
  },
  {
   "cell_type": "code",
   "execution_count": 32,
   "id": "703b1ba2",
   "metadata": {},
   "outputs": [],
   "source": [
    "designation = driver.find_element(By.CLASS_NAME,\"suggestor-input \")\n",
    "designation.send_keys('Data Analyst')"
   ]
  },
  {
   "cell_type": "code",
   "execution_count": 33,
   "id": "aca6765a",
   "metadata": {},
   "outputs": [],
   "source": [
    "location = driver.find_element(By.XPATH,\"/html/body/div[1]/div[6]/div/div/div[5]/div/div/div/input\")\n",
    "location.send_keys('Bangalore')"
   ]
  },
  {
   "cell_type": "code",
   "execution_count": 34,
   "id": "57aa2f20",
   "metadata": {},
   "outputs": [],
   "source": [
    "search = driver.find_element(By.CLASS_NAME,'qsbSubmit')\n",
    "search.click()"
   ]
  },
  {
   "cell_type": "code",
   "execution_count": 35,
   "id": "cdc279cb",
   "metadata": {},
   "outputs": [],
   "source": [
    "job_title = []\n",
    "job_location = []\n",
    "company_name = []\n",
    "experience_required = []"
   ]
  },
  {
   "cell_type": "code",
   "execution_count": 36,
   "id": "f381cdd0",
   "metadata": {},
   "outputs": [],
   "source": [
    "#scrapping job title from the given page\n",
    "\n",
    "title_tags = driver.find_elements(By.XPATH,'//a[@class=\"title fw500 ellipsis\"]')\n",
    "for i in title_tags[0:10]:\n",
    "    title = i.text\n",
    "    job_title.append(title)"
   ]
  },
  {
   "cell_type": "code",
   "execution_count": 37,
   "id": "8850fe2e",
   "metadata": {},
   "outputs": [],
   "source": [
    "#scrapping job location from the given page\n",
    "\n",
    "location_tags = driver.find_elements(By.XPATH,'//li[@class=\"fleft grey-text br2 placeHolderLi location\"]')\n",
    "for i in location_tags[0:10]:\n",
    "    location = i.text\n",
    "    job_location.append(location)"
   ]
  },
  {
   "cell_type": "code",
   "execution_count": 38,
   "id": "b617b063",
   "metadata": {},
   "outputs": [],
   "source": [
    "#scrapping company name from the given page\n",
    "\n",
    "company_tags = driver.find_elements(By.XPATH,'//a[@class=\"subTitle ellipsis fleft\"]')\n",
    "for i in company_tags[0:10]:\n",
    "    company = i.text\n",
    "    company_name.append(company)"
   ]
  },
  {
   "cell_type": "code",
   "execution_count": 39,
   "id": "2bfaff21",
   "metadata": {},
   "outputs": [],
   "source": [
    "#scrapping job experience from the given page\n",
    "\n",
    "experience_tags = driver.find_elements(By.XPATH,'//li[@class=\"fleft grey-text br2 placeHolderLi experience\"]')\n",
    "for i in experience_tags[0:10]:\n",
    "    experience = i.text\n",
    "    experience_required.append(experience)"
   ]
  },
  {
   "cell_type": "code",
   "execution_count": 40,
   "id": "24960e90",
   "metadata": {},
   "outputs": [
    {
     "name": "stdout",
     "output_type": "stream",
     "text": [
      "10 10 10 10\n"
     ]
    }
   ],
   "source": [
    "print(len(job_title),len(job_location),len(company_name),len(experience_required))"
   ]
  },
  {
   "cell_type": "code",
   "execution_count": 14,
   "id": "2305f8ac",
   "metadata": {},
   "outputs": [
    {
     "data": {
      "text/html": [
       "<div>\n",
       "<style scoped>\n",
       "    .dataframe tbody tr th:only-of-type {\n",
       "        vertical-align: middle;\n",
       "    }\n",
       "\n",
       "    .dataframe tbody tr th {\n",
       "        vertical-align: top;\n",
       "    }\n",
       "\n",
       "    .dataframe thead th {\n",
       "        text-align: right;\n",
       "    }\n",
       "</style>\n",
       "<table border=\"1\" class=\"dataframe\">\n",
       "  <thead>\n",
       "    <tr style=\"text-align: right;\">\n",
       "      <th></th>\n",
       "      <th>Job_title</th>\n",
       "      <th>Job_location</th>\n",
       "      <th>company_name</th>\n",
       "      <th>experience_required</th>\n",
       "    </tr>\n",
       "  </thead>\n",
       "  <tbody>\n",
       "  </tbody>\n",
       "</table>\n",
       "</div>"
      ],
      "text/plain": [
       "Empty DataFrame\n",
       "Columns: [Job_title, Job_location, company_name, experience_required]\n",
       "Index: []"
      ]
     },
     "execution_count": 14,
     "metadata": {},
     "output_type": "execute_result"
    }
   ],
   "source": [
    "#creating DataFrame from the above data\n",
    "\n",
    "import pandas as pd\n",
    "df = pd.DataFrame({'Job_title':job_title,'Job_location':job_location,'company_name':company_name,'experience_required':experience_required})\n",
    "df"
   ]
  },
  {
   "cell_type": "code",
   "execution_count": 41,
   "id": "12c161b8",
   "metadata": {},
   "outputs": [
    {
     "data": {
      "text/plain": [
       "[<selenium.webdriver.remote.webelement.WebElement (session=\"c72c71186aabeaeac54fb5867a9dad77\", element=\"93fd2398-ebed-49bf-8abb-3efc2c6a1422\")>,\n",
       " <selenium.webdriver.remote.webelement.WebElement (session=\"c72c71186aabeaeac54fb5867a9dad77\", element=\"e59814f9-d73a-4790-a13f-810fc11fac0c\")>,\n",
       " <selenium.webdriver.remote.webelement.WebElement (session=\"c72c71186aabeaeac54fb5867a9dad77\", element=\"c13d4900-575c-4aeb-a626-403fc4d358ab\")>,\n",
       " <selenium.webdriver.remote.webelement.WebElement (session=\"c72c71186aabeaeac54fb5867a9dad77\", element=\"abb013f6-2aa8-4aa0-b9ec-c4aed94a61ca\")>]"
      ]
     },
     "execution_count": 41,
     "metadata": {},
     "output_type": "execute_result"
    }
   ],
   "source": [
    "#to fetch url\n",
    "\n",
    "url = driver.find_elements(By.XPATH,'//a[@class=\"title fw500 ellipsis\"]')\n",
    "url[0:4]"
   ]
  },
  {
   "cell_type": "code",
   "execution_count": 42,
   "id": "9fa8ae91",
   "metadata": {},
   "outputs": [
    {
     "name": "stdout",
     "output_type": "stream",
     "text": [
      "https://www.naukri.com/job-listings-data-analyst-shell-pvt-ltd-bangalore-bengaluru-2-to-5-years-091222501110\n",
      "https://www.naukri.com/job-listings-data-analyst-shell-pvt-ltd-bangalore-bengaluru-3-to-5-years-091222501109\n",
      "https://www.naukri.com/job-listings-data-analyst-shell-pvt-ltd-bangalore-bengaluru-2-to-5-years-091222501111\n",
      "https://www.naukri.com/job-listings-senior-data-analyst-ii-flipkart-internet-private-limited-bangalore-bengaluru-2-to-4-years-051222905310\n"
     ]
    }
   ],
   "source": [
    "for i in url[0:4]:\n",
    "    print(i.get_attribute('href'))"
   ]
  },
  {
   "cell_type": "code",
   "execution_count": 43,
   "id": "85088653",
   "metadata": {},
   "outputs": [],
   "source": [
    "job_titles = []"
   ]
  },
  {
   "cell_type": "code",
   "execution_count": 44,
   "id": "101c6aa0",
   "metadata": {},
   "outputs": [],
   "source": [
    "start=0\n",
    "end=2\n",
    "for page in range(start,end):\n",
    "    titles= driver.find_elements(By.XPATH,'//a[@class=\"title fw500 ellipsis\"]')\n",
    "    for i in titles:\n",
    "        job_titles.append(i.text)\n",
    "    next_button = driver.find_element(By.XPATH,'//a[@class=\"fright fs14 btn-secondary br2\"]')\n",
    "    next_button.click()\n",
    "    time.sleep(3)"
   ]
  },
  {
   "cell_type": "code",
   "execution_count": 36,
   "id": "106b15a1",
   "metadata": {},
   "outputs": [
    {
     "data": {
      "text/plain": [
       "40"
      ]
     },
     "execution_count": 36,
     "metadata": {},
     "output_type": "execute_result"
    }
   ],
   "source": [
    "len(job_titles)"
   ]
  },
  {
   "cell_type": "code",
   "execution_count": 38,
   "id": "a6e93e27",
   "metadata": {},
   "outputs": [
    {
     "data": {
      "text/plain": [
       "['Senior Data Analyst II',\n",
       " 'Project Data Analyst',\n",
       " 'Data Analyst, Business Analyst',\n",
       " 'Data Analyst',\n",
       " 'Executive - Data Analyst',\n",
       " 'Data Analyst',\n",
       " 'Data Analyst / Product Analyst / Business Analyst',\n",
       " 'Senior Data Analyst - Data Modeling/Quality',\n",
       " 'Senior Data Analyst | Neiman Marcus Group',\n",
       " 'Senior Data Analyst',\n",
       " 'Sr . Data Analyst',\n",
       " 'Data Analyst',\n",
       " 'Customer Master Data Analyst (SAP SD/MM)',\n",
       " 'Senior Analyst - Data Management',\n",
       " 'Data Analyst - SQL',\n",
       " 'Data Analyst',\n",
       " 'Data Analyst - CRM Platform',\n",
       " 'Intern - Data Analyst',\n",
       " 'Analyst- Web Data Management',\n",
       " 'Senior Data Analyst',\n",
       " 'Sr Data Analyst',\n",
       " 'Sr Data Analyst',\n",
       " 'Senior Data Analyst',\n",
       " 'Data Analyst | Bangalore | 5+ Yrs | Work from Office',\n",
       " 'Data Analyst',\n",
       " 'Data Analyst - SQL',\n",
       " 'Data Analyst',\n",
       " 'Sr Data Analyst - Tableau',\n",
       " 'Data Analyst/Sr Data Analyst',\n",
       " 'Data Analyst',\n",
       " 'Financial Data Analyst',\n",
       " 'Data and Analytics Analyst',\n",
       " 'Senior Data Analyst',\n",
       " 'Senior Data Analyst',\n",
       " 'Data Analyst / 4 - 7 years / Bangalore',\n",
       " 'Data Analyst',\n",
       " 'Data Analyst',\n",
       " 'Data Analyst',\n",
       " 'Data Analyst - GAMMA',\n",
       " 'Business Data Analyst 1']"
      ]
     },
     "execution_count": 38,
     "metadata": {},
     "output_type": "execute_result"
    }
   ],
   "source": [
    "job_titles"
   ]
  },
  {
   "cell_type": "markdown",
   "id": "88e42d78",
   "metadata": {},
   "source": [
    "# question 2"
   ]
  },
  {
   "cell_type": "code",
   "execution_count": 89,
   "id": "91538dd4",
   "metadata": {},
   "outputs": [],
   "source": [
    "driver = webdriver.Chrome(r\"C:\\Users\\Kavisha\\Downloads\\chromedriver_win32 (3)\\chromedriver.exe\")"
   ]
  },
  {
   "cell_type": "code",
   "execution_count": 90,
   "id": "46f9f220",
   "metadata": {},
   "outputs": [],
   "source": [
    "driver.get(\"https://www.naukri.com/\")"
   ]
  },
  {
   "cell_type": "code",
   "execution_count": 91,
   "id": "ab7f0fef",
   "metadata": {},
   "outputs": [],
   "source": [
    "designation = driver.find_element(By.CLASS_NAME,\"suggestor-input \")\n",
    "designation.send_keys('Data Scientist')"
   ]
  },
  {
   "cell_type": "code",
   "execution_count": 92,
   "id": "0e61bb36",
   "metadata": {},
   "outputs": [],
   "source": [
    "location = driver.find_element(By.XPATH,\"/html/body/div[1]/div[6]/div/div/div[5]/div/div/div/input\")\n",
    "location.send_keys('Bangalore')"
   ]
  },
  {
   "cell_type": "code",
   "execution_count": 93,
   "id": "5e027a71",
   "metadata": {},
   "outputs": [],
   "source": [
    "search = driver.find_element(By.CLASS_NAME,'qsbSubmit')\n",
    "search.click()"
   ]
  },
  {
   "cell_type": "code",
   "execution_count": 94,
   "id": "d393be43",
   "metadata": {},
   "outputs": [],
   "source": [
    "job_title = []\n",
    "job_location = []\n",
    "company_name = []\n"
   ]
  },
  {
   "cell_type": "code",
   "execution_count": 95,
   "id": "704a4429",
   "metadata": {},
   "outputs": [],
   "source": [
    "title_tags = driver.find_elements(By.XPATH,'//a[@class=\"title fw500 ellipsis\"]')\n",
    "for i in title_tags[0:10]:\n",
    "    title = i.text\n",
    "    job_title.append(title)"
   ]
  },
  {
   "cell_type": "code",
   "execution_count": 96,
   "id": "c1898ea3",
   "metadata": {},
   "outputs": [],
   "source": [
    "location_tags = driver.find_elements(By.XPATH,'//li[@class=\"fleft grey-text br2 placeHolderLi location\"]')\n",
    "for i in location_tags[0:10]:\n",
    "    location = i.text\n",
    "    job_location.append(location)"
   ]
  },
  {
   "cell_type": "code",
   "execution_count": 97,
   "id": "22227fc9",
   "metadata": {},
   "outputs": [],
   "source": [
    "company_tags = driver.find_elements(By.XPATH,'//a[@class=\"subTitle ellipsis fleft\"]')\n",
    "for i in company_tags[0:10]:\n",
    "    company = i.text\n",
    "    company_name.append(company)"
   ]
  },
  {
   "cell_type": "code",
   "execution_count": 98,
   "id": "571048d6",
   "metadata": {},
   "outputs": [
    {
     "name": "stdout",
     "output_type": "stream",
     "text": [
      "10 10 10\n"
     ]
    }
   ],
   "source": [
    "print(len(job_title),len(job_location),len(company_name))"
   ]
  },
  {
   "cell_type": "code",
   "execution_count": 99,
   "id": "2a31244d",
   "metadata": {},
   "outputs": [
    {
     "data": {
      "text/html": [
       "<div>\n",
       "<style scoped>\n",
       "    .dataframe tbody tr th:only-of-type {\n",
       "        vertical-align: middle;\n",
       "    }\n",
       "\n",
       "    .dataframe tbody tr th {\n",
       "        vertical-align: top;\n",
       "    }\n",
       "\n",
       "    .dataframe thead th {\n",
       "        text-align: right;\n",
       "    }\n",
       "</style>\n",
       "<table border=\"1\" class=\"dataframe\">\n",
       "  <thead>\n",
       "    <tr style=\"text-align: right;\">\n",
       "      <th></th>\n",
       "      <th>Job_title</th>\n",
       "      <th>Job_location</th>\n",
       "      <th>company_name</th>\n",
       "    </tr>\n",
       "  </thead>\n",
       "  <tbody>\n",
       "    <tr>\n",
       "      <th>0</th>\n",
       "      <td>Analystics &amp; Modeling Specialist</td>\n",
       "      <td>Bangalore/Bengaluru, Kolkata, Mumbai, Hyderaba...</td>\n",
       "      <td>Accenture</td>\n",
       "    </tr>\n",
       "    <tr>\n",
       "      <th>1</th>\n",
       "      <td>Data Scientist</td>\n",
       "      <td>Bangalore/Bengaluru, New Delhi, Hyderabad/Secu...</td>\n",
       "      <td>Tata Nexarc</td>\n",
       "    </tr>\n",
       "    <tr>\n",
       "      <th>2</th>\n",
       "      <td>Data Scientist</td>\n",
       "      <td>Bangalore/Bengaluru, Nagpur, Pune</td>\n",
       "      <td>Tech Mahindra</td>\n",
       "    </tr>\n",
       "    <tr>\n",
       "      <th>3</th>\n",
       "      <td>ACN - Applied Intelligence - Data Scientist - 09</td>\n",
       "      <td>Bangalore/Bengaluru</td>\n",
       "      <td>Accenture</td>\n",
       "    </tr>\n",
       "    <tr>\n",
       "      <th>4</th>\n",
       "      <td>Data Scientist</td>\n",
       "      <td>Hybrid - Bangalore/Bengaluru, Noida, Kolkata, ...</td>\n",
       "      <td>Mindtree Limited</td>\n",
       "    </tr>\n",
       "    <tr>\n",
       "      <th>5</th>\n",
       "      <td>Data Scientist - II</td>\n",
       "      <td>Bangalore/Bengaluru, India, Mumbai (All Areas)</td>\n",
       "      <td>Bizongo</td>\n",
       "    </tr>\n",
       "    <tr>\n",
       "      <th>6</th>\n",
       "      <td>Senior Data Scientist</td>\n",
       "      <td>Bangalore/Bengaluru, Mumbai</td>\n",
       "      <td>Baker Hughes</td>\n",
       "    </tr>\n",
       "    <tr>\n",
       "      <th>7</th>\n",
       "      <td>Python Programming Language Data Science Pract...</td>\n",
       "      <td>Bangalore/Bengaluru</td>\n",
       "      <td>Accenture</td>\n",
       "    </tr>\n",
       "    <tr>\n",
       "      <th>8</th>\n",
       "      <td>ACN - Applied Intelligence - C4DI - Sustainabi...</td>\n",
       "      <td>Bangalore/Bengaluru</td>\n",
       "      <td>Accenture</td>\n",
       "    </tr>\n",
       "    <tr>\n",
       "      <th>9</th>\n",
       "      <td>Lead Data Scientist</td>\n",
       "      <td>Bangalore/Bengaluru</td>\n",
       "      <td>Caterpillar Inc</td>\n",
       "    </tr>\n",
       "  </tbody>\n",
       "</table>\n",
       "</div>"
      ],
      "text/plain": [
       "                                           Job_title  \\\n",
       "0                   Analystics & Modeling Specialist   \n",
       "1                                     Data Scientist   \n",
       "2                                     Data Scientist   \n",
       "3   ACN - Applied Intelligence - Data Scientist - 09   \n",
       "4                                     Data Scientist   \n",
       "5                                Data Scientist - II   \n",
       "6                              Senior Data Scientist   \n",
       "7  Python Programming Language Data Science Pract...   \n",
       "8  ACN - Applied Intelligence - C4DI - Sustainabi...   \n",
       "9                                Lead Data Scientist   \n",
       "\n",
       "                                        Job_location      company_name  \n",
       "0  Bangalore/Bengaluru, Kolkata, Mumbai, Hyderaba...         Accenture  \n",
       "1  Bangalore/Bengaluru, New Delhi, Hyderabad/Secu...       Tata Nexarc  \n",
       "2                  Bangalore/Bengaluru, Nagpur, Pune     Tech Mahindra  \n",
       "3                                Bangalore/Bengaluru         Accenture  \n",
       "4  Hybrid - Bangalore/Bengaluru, Noida, Kolkata, ...  Mindtree Limited  \n",
       "5     Bangalore/Bengaluru, India, Mumbai (All Areas)           Bizongo  \n",
       "6                        Bangalore/Bengaluru, Mumbai      Baker Hughes  \n",
       "7                                Bangalore/Bengaluru         Accenture  \n",
       "8                                Bangalore/Bengaluru         Accenture  \n",
       "9                                Bangalore/Bengaluru   Caterpillar Inc  "
      ]
     },
     "execution_count": 99,
     "metadata": {},
     "output_type": "execute_result"
    }
   ],
   "source": [
    "#creating DataFrame from the above data\n",
    "\n",
    "import pandas as pd\n",
    "df1 = pd.DataFrame({'Job_title':job_title,'Job_location':job_location,'company_name':company_name})\n",
    "df1"
   ]
  },
  {
   "cell_type": "markdown",
   "id": "47e26d15",
   "metadata": {},
   "source": [
    "# question 3"
   ]
  },
  {
   "cell_type": "code",
   "execution_count": 49,
   "id": "322236f1",
   "metadata": {},
   "outputs": [],
   "source": [
    "import selenium \n",
    "import pandas as pd\n",
    "from selenium import webdriver\n",
    "import warnings\n",
    "warnings.filterwarnings('ignore')\n",
    "from selenium.common.exceptions import StaleElementReferenceException, NoSuchElementException\n",
    "from selenium.webdriver.common.by import By\n",
    "import time"
   ]
  },
  {
   "cell_type": "code",
   "execution_count": 50,
   "id": "93a753a4",
   "metadata": {},
   "outputs": [],
   "source": [
    "\n",
    "driver = webdriver.Chrome(r\"C:\\Users\\Kavisha\\Downloads\\chromedriver_win32 (3)\\chromedriver.exe\")"
   ]
  },
  {
   "cell_type": "code",
   "execution_count": 51,
   "id": "1946874c",
   "metadata": {},
   "outputs": [],
   "source": [
    "driver.get(\"https://www.naukri.com/\")"
   ]
  },
  {
   "cell_type": "code",
   "execution_count": 52,
   "id": "ca02245c",
   "metadata": {},
   "outputs": [],
   "source": [
    "designation = driver.find_element(By.CLASS_NAME,\"suggestor-input \")\n",
    "designation.send_keys('Data Scientist')"
   ]
  },
  {
   "cell_type": "code",
   "execution_count": 53,
   "id": "6cdcea7a",
   "metadata": {},
   "outputs": [],
   "source": [
    "search = driver.find_element(By.CLASS_NAME,'qsbSubmit')\n",
    "search.click()"
   ]
  },
  {
   "cell_type": "code",
   "execution_count": 54,
   "id": "404e5c03",
   "metadata": {},
   "outputs": [],
   "source": [
    "#applying filters\n",
    "\n",
    "loc_filter=driver.find_elements(By.XPATH,'//div[@class=\"mt-8 chckBoxCont\"]')\n",
    "\n",
    "\n",
    "for i in loc_filter :\n",
    "    if (i.text=='Delhi / NCR'):\n",
    "        i.click()\n",
    "        break\n"
   ]
  },
  {
   "cell_type": "code",
   "execution_count": 55,
   "id": "68496677",
   "metadata": {},
   "outputs": [],
   "source": [
    "sal_filter=driver.find_elements(By.XPATH,'//div[@class=\"mt-8 chckBoxCont\"]')\n",
    "for i in sal_filter:\n",
    "    if(i.text=='3-6 Lakhs'):\n",
    "        i.click()\n",
    "        break"
   ]
  },
  {
   "cell_type": "code",
   "execution_count": 56,
   "id": "db7ecad1",
   "metadata": {},
   "outputs": [],
   "source": [
    "job_title = []\n",
    "job_location = []\n",
    "company_name = []\n",
    "experience_required = []"
   ]
  },
  {
   "cell_type": "code",
   "execution_count": 57,
   "id": "03b2d8c7",
   "metadata": {},
   "outputs": [],
   "source": [
    "title_tags = driver.find_elements(By.XPATH,'//a[@class=\"title fw500 ellipsis\"]')\n",
    "for i in title_tags[0:10]:\n",
    "    title = i.text\n",
    "    job_title.append(title)\n"
   ]
  },
  {
   "cell_type": "code",
   "execution_count": 58,
   "id": "bf204c56",
   "metadata": {},
   "outputs": [],
   "source": [
    "location_tags = driver.find_elements(By.XPATH,'//li[@class=\"fleft grey-text br2 placeHolderLi location\"]')\n",
    "for i in location_tags[0:10]:\n",
    "    location = i.text\n",
    "    job_location.append(location)"
   ]
  },
  {
   "cell_type": "code",
   "execution_count": 59,
   "id": "768e7ad4",
   "metadata": {},
   "outputs": [],
   "source": [
    "company_tags = driver.find_elements(By.XPATH,'//a[@class=\"subTitle ellipsis fleft\"]')\n",
    "for i in company_tags[0:10]:\n",
    "    company = i.text\n",
    "    company_name.append(company)"
   ]
  },
  {
   "cell_type": "code",
   "execution_count": 60,
   "id": "f07f414d",
   "metadata": {},
   "outputs": [],
   "source": [
    "experience_tags = driver.find_elements(By.XPATH,'//span[@class=\"ellipsis fleft fs12 lh16 expwdth\"]')\n",
    "for i in experience_tags[0:10]:\n",
    "    experience = i.text\n",
    "    experience_required.append(experience)"
   ]
  },
  {
   "cell_type": "code",
   "execution_count": 61,
   "id": "6c09e8a4",
   "metadata": {},
   "outputs": [
    {
     "name": "stdout",
     "output_type": "stream",
     "text": [
      "10 10 10 10\n"
     ]
    }
   ],
   "source": [
    "print(len(job_title),len(job_location),len(company_name),len(experience_required))"
   ]
  },
  {
   "cell_type": "code",
   "execution_count": 62,
   "id": "85ea9a6c",
   "metadata": {},
   "outputs": [
    {
     "data": {
      "text/html": [
       "<div>\n",
       "<style scoped>\n",
       "    .dataframe tbody tr th:only-of-type {\n",
       "        vertical-align: middle;\n",
       "    }\n",
       "\n",
       "    .dataframe tbody tr th {\n",
       "        vertical-align: top;\n",
       "    }\n",
       "\n",
       "    .dataframe thead th {\n",
       "        text-align: right;\n",
       "    }\n",
       "</style>\n",
       "<table border=\"1\" class=\"dataframe\">\n",
       "  <thead>\n",
       "    <tr style=\"text-align: right;\">\n",
       "      <th></th>\n",
       "      <th>Job_title</th>\n",
       "      <th>Job_location</th>\n",
       "      <th>company_name</th>\n",
       "      <th>experience_required</th>\n",
       "    </tr>\n",
       "  </thead>\n",
       "  <tbody>\n",
       "    <tr>\n",
       "      <th>0</th>\n",
       "      <td>Analystics &amp; Modeling Specialist</td>\n",
       "      <td>Kolkata, Mumbai, Hyderabad/Secunderabad, Pune,...</td>\n",
       "      <td>Accenture</td>\n",
       "      <td>6-8 Yrs</td>\n",
       "    </tr>\n",
       "    <tr>\n",
       "      <th>1</th>\n",
       "      <td>Data Scientist</td>\n",
       "      <td>New Delhi, Hyderabad/Secunderabad, Pune, Ahmed...</td>\n",
       "      <td>Tata Nexarc</td>\n",
       "      <td>4-8 Yrs</td>\n",
       "    </tr>\n",
       "    <tr>\n",
       "      <th>2</th>\n",
       "      <td>Data Scientist</td>\n",
       "      <td>Nagpur, Pune, Bangalore/Bengaluru</td>\n",
       "      <td>Tech Mahindra</td>\n",
       "      <td>5-8 Yrs</td>\n",
       "    </tr>\n",
       "    <tr>\n",
       "      <th>3</th>\n",
       "      <td>Data &amp; Analytics Lead, Geo Analytics - GAMMA</td>\n",
       "      <td>Bangalore/Bengaluru</td>\n",
       "      <td>Boston Consulting Group</td>\n",
       "      <td>7-10 Yrs</td>\n",
       "    </tr>\n",
       "    <tr>\n",
       "      <th>4</th>\n",
       "      <td>Weather and Climate Data Scientist</td>\n",
       "      <td>Bangalore/Bengaluru</td>\n",
       "      <td>Shell Pvt Ltd</td>\n",
       "      <td>5-12 Yrs</td>\n",
       "    </tr>\n",
       "    <tr>\n",
       "      <th>5</th>\n",
       "      <td>Data Scientist</td>\n",
       "      <td>Hybrid - Noida, Kolkata, Hyderabad/Secunderaba...</td>\n",
       "      <td>Mindtree</td>\n",
       "      <td>5-10 Yrs</td>\n",
       "    </tr>\n",
       "    <tr>\n",
       "      <th>6</th>\n",
       "      <td>Data Scientist - II</td>\n",
       "      <td>India, Bangalore/Bengaluru, Mumbai (All Areas)</td>\n",
       "      <td>Bizongo</td>\n",
       "      <td>3-6 Yrs</td>\n",
       "    </tr>\n",
       "    <tr>\n",
       "      <th>7</th>\n",
       "      <td>Senior Data Scientist</td>\n",
       "      <td>Mumbai, Bangalore/Bengaluru</td>\n",
       "      <td>Baker Hughes</td>\n",
       "      <td>6-8 Yrs</td>\n",
       "    </tr>\n",
       "    <tr>\n",
       "      <th>8</th>\n",
       "      <td>Manager-Data Science</td>\n",
       "      <td>Bangalore/Bengaluru</td>\n",
       "      <td>AMERICAN EXPRESS</td>\n",
       "      <td>3-4 Yrs</td>\n",
       "    </tr>\n",
       "    <tr>\n",
       "      <th>9</th>\n",
       "      <td>ACN - Applied Intelligence - Data Scientist - 09</td>\n",
       "      <td>Bangalore/Bengaluru</td>\n",
       "      <td>Accenture</td>\n",
       "      <td>2-6 Yrs</td>\n",
       "    </tr>\n",
       "  </tbody>\n",
       "</table>\n",
       "</div>"
      ],
      "text/plain": [
       "                                          Job_title  \\\n",
       "0                  Analystics & Modeling Specialist   \n",
       "1                                    Data Scientist   \n",
       "2                                    Data Scientist   \n",
       "3      Data & Analytics Lead, Geo Analytics - GAMMA   \n",
       "4                Weather and Climate Data Scientist   \n",
       "5                                    Data Scientist   \n",
       "6                               Data Scientist - II   \n",
       "7                             Senior Data Scientist   \n",
       "8                              Manager-Data Science   \n",
       "9  ACN - Applied Intelligence - Data Scientist - 09   \n",
       "\n",
       "                                        Job_location             company_name  \\\n",
       "0  Kolkata, Mumbai, Hyderabad/Secunderabad, Pune,...                Accenture   \n",
       "1  New Delhi, Hyderabad/Secunderabad, Pune, Ahmed...              Tata Nexarc   \n",
       "2                  Nagpur, Pune, Bangalore/Bengaluru            Tech Mahindra   \n",
       "3                                Bangalore/Bengaluru  Boston Consulting Group   \n",
       "4                                Bangalore/Bengaluru            Shell Pvt Ltd   \n",
       "5  Hybrid - Noida, Kolkata, Hyderabad/Secunderaba...                 Mindtree   \n",
       "6     India, Bangalore/Bengaluru, Mumbai (All Areas)                  Bizongo   \n",
       "7                        Mumbai, Bangalore/Bengaluru             Baker Hughes   \n",
       "8                                Bangalore/Bengaluru         AMERICAN EXPRESS   \n",
       "9                                Bangalore/Bengaluru                Accenture   \n",
       "\n",
       "  experience_required  \n",
       "0             6-8 Yrs  \n",
       "1             4-8 Yrs  \n",
       "2             5-8 Yrs  \n",
       "3            7-10 Yrs  \n",
       "4            5-12 Yrs  \n",
       "5            5-10 Yrs  \n",
       "6             3-6 Yrs  \n",
       "7             6-8 Yrs  \n",
       "8             3-4 Yrs  \n",
       "9             2-6 Yrs  "
      ]
     },
     "execution_count": 62,
     "metadata": {},
     "output_type": "execute_result"
    }
   ],
   "source": [
    "import pandas as pd\n",
    "df2 = pd.DataFrame({'Job_title':job_title,'Job_location':job_location,'company_name':company_name,'experience_required':experience_required})\n",
    "df2"
   ]
  },
  {
   "cell_type": "markdown",
   "id": "e0d86650",
   "metadata": {},
   "source": [
    "# question 4\n"
   ]
  },
  {
   "cell_type": "code",
   "execution_count": 82,
   "id": "6b390c2d",
   "metadata": {},
   "outputs": [],
   "source": [
    "driver = webdriver.Chrome(r\"C:\\Users\\Kavisha\\Downloads\\chromedriver_win32 (3)\\chromedriver.exe\")"
   ]
  },
  {
   "cell_type": "code",
   "execution_count": 83,
   "id": "619ee268",
   "metadata": {},
   "outputs": [],
   "source": [
    "driver.get(\" https://www.flipkart.com/\")"
   ]
  },
  {
   "cell_type": "code",
   "execution_count": 84,
   "id": "4708382f",
   "metadata": {},
   "outputs": [],
   "source": [
    "search_product = driver.find_element(By.XPATH,'//input[@class=\"_3704LK\"]')\n",
    "search_product.send_keys(\"sunglasses\")\n"
   ]
  },
  {
   "cell_type": "code",
   "execution_count": 85,
   "id": "22366112",
   "metadata": {},
   "outputs": [],
   "source": [
    "search_btn = driver.find_element(By.XPATH,'//button[@class=\"L0Z3Pu\"]')\n",
    "search_btn.click()"
   ]
  },
  {
   "cell_type": "code",
   "execution_count": 86,
   "id": "234debfa",
   "metadata": {},
   "outputs": [],
   "source": [
    "brand_tit = []\n",
    "product_tit = []\n",
    "price_tit = []\n",
    "discount_tit = []"
   ]
  },
  {
   "cell_type": "code",
   "execution_count": 93,
   "id": "f90c873a",
   "metadata": {},
   "outputs": [],
   "source": [
    "brand_title = driver.find_elements(By.XPATH,'//div[@class=\"_2WkVRV\"]')\n",
    "for i in brand_title[0:100]:\n",
    "    brand= i.text\n",
    "    brand_tit.append(brand)"
   ]
  },
  {
   "cell_type": "code",
   "execution_count": 94,
   "id": "743ab890",
   "metadata": {},
   "outputs": [],
   "source": [
    "product_title = driver.find_elements(By.XPATH,'//a[@class=\"IRpwTa\"]')\n",
    "for i in product_title[0:100]:\n",
    "    product = i.text\n",
    "    product_tit.append(product)"
   ]
  },
  {
   "cell_type": "code",
   "execution_count": 95,
   "id": "0a5c9e56",
   "metadata": {},
   "outputs": [],
   "source": [
    "price_title = driver.find_elements(By.XPATH,'//a[@class=\"_3bPFwb\"]')\n",
    "for i in price_title[0:100]:\n",
    "    price = i.text\n",
    "    price_tit.append(price)"
   ]
  },
  {
   "cell_type": "code",
   "execution_count": 96,
   "id": "36b279b2",
   "metadata": {},
   "outputs": [],
   "source": [
    "discount_title =  driver.find_elements(By.XPATH,'//div[@class=\"_3Ay6Sb\"]')\n",
    "for i in discount_title[0:100]:\n",
    "    discount = i.text\n",
    "    discount_tit.append(discount)"
   ]
  },
  {
   "cell_type": "code",
   "execution_count": 99,
   "id": "b0e51a7e",
   "metadata": {},
   "outputs": [
    {
     "data": {
      "text/plain": [
       "['LIZA ANGEL',\n",
       " 'Fastrack',\n",
       " 'Fastrack',\n",
       " 'Elligator',\n",
       " 'PHENOMENAL',\n",
       " 'Silver Kartz',\n",
       " 'Elligator',\n",
       " 'SHAAH COLLECTIONS',\n",
       " 'Silver Kartz',\n",
       " 'Elligator',\n",
       " 'Fastrack',\n",
       " 'Elligator',\n",
       " 'SRPM',\n",
       " 'Elligator',\n",
       " 'New Specs',\n",
       " 'LIZA ANGEL',\n",
       " 'Fastrack',\n",
       " 'Fastrack',\n",
       " 'SRPM',\n",
       " 'LIZA ANGEL',\n",
       " 'PIRASO',\n",
       " 'SUNBEE',\n",
       " 'Fastrack',\n",
       " 'New Specs',\n",
       " 'PIRASO',\n",
       " 'Fastrack',\n",
       " 'Elligator']"
      ]
     },
     "execution_count": 99,
     "metadata": {},
     "output_type": "execute_result"
    }
   ],
   "source": [
    "brand_tit"
   ]
  },
  {
   "cell_type": "code",
   "execution_count": 100,
   "id": "d2da0403",
   "metadata": {},
   "outputs": [
    {
     "data": {
      "text/plain": [
       "['Aviator, Clubmaster, Oval, Rectangular, Retro Square, R...',\n",
       " 'Aviator, Clubmaster, Oval, Over-sized, Rectangular, Ret...',\n",
       " 'Riding Glasses, Night Vision Spectacle Sunglasses (Fre...',\n",
       " 'UV Protection Rectangular Sunglasses (Free Size)',\n",
       " 'UV Protection Wayfarer Sunglasses (Free Size)',\n",
       " 'UV Protection Cat-eye, Retro Square, Oval, Round Sungla...',\n",
       " 'UV Protection Retro Square Sunglasses (53)',\n",
       " 'UV Protection Clubmaster Sunglasses (53)',\n",
       " 'UV Protection Cat-eye, Retro Square, Oval, Round Sungla...',\n",
       " 'UV Protection, Polarized, Mirrored Rectangular Sunglass...',\n",
       " 'Wayfarer, Sports, Round, Retro Square, Rectangular, Ove...',\n",
       " 'UV Protection Wayfarer Sunglasses (Free Size)',\n",
       " 'UV Protection Round Sunglasses (53)',\n",
       " 'UV Protection Wayfarer Sunglasses (Free Size)',\n",
       " 'UV Protection Round Sunglasses (53)',\n",
       " 'UV Protection Wayfarer Sunglasses (50)',\n",
       " 'Round Sunglasses',\n",
       " 'Wayfarer, Sports, Round, Retro Square, Rectangular, Ove...',\n",
       " 'UV Protection Round Sunglasses (54)',\n",
       " 'UV Protection Rectangular Sunglasses (Free Size)',\n",
       " 'Aviator, Clubmaster, Oval, Over-sized, Rectangular, Ret...',\n",
       " 'Aviator, Clubmaster, Rectangular, Retro Square, Round, ...',\n",
       " 'UV Protection, Polarized Rectangular Sunglasses (Free S...',\n",
       " 'Mirrored, UV Protection Wayfarer Sunglasses (Free Size)',\n",
       " 'Gradient, UV Protection Wayfarer Sunglasses (Free Size)',\n",
       " 'Night Vision, UV Protection Round Sunglasses (54)',\n",
       " 'Aviator, Clubmaster, Oval, Over-sized, Rectangular, Ret...',\n",
       " 'Aviator, Clubmaster, Oval, Over-sized, Rectangular, Ret...',\n",
       " 'Riding Glasses, UV Protection, Night Vision Spectacle ...',\n",
       " 'UV Protection Aviator Sunglasses (54)',\n",
       " 'Aviator, Clubmaster, Oval, Over-sized, Rectangular, Ret...',\n",
       " 'Aviator, Clubmaster, Oval, Rectangular, Retro Square, R...',\n",
       " 'UV Protection, Polarized Wayfarer Sunglasses (Free Size...',\n",
       " 'Gradient, UV Protection Wayfarer Sunglasses (Free Size)',\n",
       " 'UV Protection Oval Sunglasses (Free Size)',\n",
       " 'UV Protection Rectangular Sunglasses (52)',\n",
       " 'Cat-eye Sunglasses',\n",
       " 'Aviator, Clubmaster, Oval, Over-sized, Rectangular, Ret...',\n",
       " 'UV Protection Shield Sunglasses (Free Size)',\n",
       " 'Others Cat-eye, Retro Square, Wayfarer Sunglasses (54)']"
      ]
     },
     "execution_count": 100,
     "metadata": {},
     "output_type": "execute_result"
    }
   ],
   "source": [
    "product_tit"
   ]
  },
  {
   "cell_type": "code",
   "execution_count": 101,
   "id": "0dc8345d",
   "metadata": {},
   "outputs": [
    {
     "data": {
      "text/plain": [
       "['₹549',\n",
       " '₹549',\n",
       " '₹129',\n",
       " '₹489',\n",
       " '₹599',\n",
       " '₹149',\n",
       " '₹129',\n",
       " '₹278',\n",
       " '₹129',\n",
       " '₹159',\n",
       " '₹549',\n",
       " '₹284',\n",
       " '₹149',\n",
       " '₹539',\n",
       " '₹149',\n",
       " '₹149',\n",
       " '₹179',\n",
       " '₹549',\n",
       " '₹286',\n",
       " '₹259',\n",
       " '₹549',\n",
       " '₹599',\n",
       " '₹129',\n",
       " '₹599',\n",
       " '₹539',\n",
       " '₹179',\n",
       " '₹549',\n",
       " '₹549',\n",
       " '₹129',\n",
       " '₹257',\n",
       " '₹549',\n",
       " '₹549',\n",
       " '₹283',\n",
       " '₹479',\n",
       " '₹128',\n",
       " '₹209',\n",
       " '₹249',\n",
       " '₹549',\n",
       " '₹669',\n",
       " '₹149',\n",
       " '₹549₹2,69979% off',\n",
       " '₹549₹2,69979% off',\n",
       " '₹129₹99987% off\\nFree delivery',\n",
       " '₹489₹79938% off',\n",
       " '₹599₹99940% off\\nFree delivery',\n",
       " '₹149₹59975% off\\nFree delivery',\n",
       " '₹129₹99987% off\\nFree delivery',\n",
       " '₹278₹1,49981% off\\nFree delivery',\n",
       " '₹129₹99987% off',\n",
       " '₹159₹1,69990% off\\nFree delivery',\n",
       " '₹549₹2,69979% off\\nFree delivery',\n",
       " '₹284₹1,49981% off\\nFree delivery',\n",
       " '₹149₹99985% off',\n",
       " '₹539₹89940% off\\nFree delivery',\n",
       " '₹149₹99885% off\\nFree delivery',\n",
       " '₹149₹1,29988% off\\nFree delivery',\n",
       " '₹179₹49964% off',\n",
       " '₹549₹2,69979% off\\nFree delivery',\n",
       " '₹286₹2,49588% off',\n",
       " '₹259₹2,59990% off\\nFree delivery',\n",
       " '₹549₹2,69979% off',\n",
       " '₹599₹1,99970% off',\n",
       " '₹129₹99987% off',\n",
       " '₹599₹99940% off\\nFree delivery',\n",
       " '₹539₹89940% off\\nFree delivery',\n",
       " '₹179₹99982% off\\nFree delivery',\n",
       " '₹549₹2,69979% off\\nFree delivery',\n",
       " '₹549₹2,69979% off\\nFree delivery',\n",
       " '₹129₹49974% off\\nFree delivery',\n",
       " '₹257₹1,59983% off\\nFree delivery',\n",
       " '₹549₹2,69979% off\\nFree delivery',\n",
       " '₹549₹2,69979% off\\nFree delivery',\n",
       " '₹283₹1,29978% off\\nFree delivery',\n",
       " '₹479₹79940% off',\n",
       " '₹128₹99987% off\\nFree delivery',\n",
       " '₹209₹1,59986% off\\nFree delivery',\n",
       " '₹249₹1,29980% off\\nFree delivery',\n",
       " '₹549₹2,69979% off\\nFree delivery',\n",
       " '₹669₹89925% off\\nFree delivery',\n",
       " '₹149₹1,19987% off\\nFree delivery']"
      ]
     },
     "execution_count": 101,
     "metadata": {},
     "output_type": "execute_result"
    }
   ],
   "source": [
    "\n",
    "price_tit"
   ]
  },
  {
   "cell_type": "code",
   "execution_count": 102,
   "id": "0d403394",
   "metadata": {},
   "outputs": [
    {
     "data": {
      "text/plain": [
       "['79% off',\n",
       " '79% off',\n",
       " '87% off',\n",
       " '38% off',\n",
       " '40% off',\n",
       " '75% off',\n",
       " '87% off',\n",
       " '81% off',\n",
       " '87% off',\n",
       " '90% off',\n",
       " '79% off',\n",
       " '81% off',\n",
       " '85% off',\n",
       " '40% off',\n",
       " '85% off',\n",
       " '88% off',\n",
       " '64% off',\n",
       " '79% off',\n",
       " '88% off',\n",
       " '90% off',\n",
       " '79% off',\n",
       " '70% off',\n",
       " '87% off',\n",
       " '40% off',\n",
       " '40% off',\n",
       " '82% off',\n",
       " '79% off',\n",
       " '79% off',\n",
       " '74% off',\n",
       " '83% off',\n",
       " '79% off',\n",
       " '79% off',\n",
       " '78% off',\n",
       " '40% off',\n",
       " '87% off',\n",
       " '86% off',\n",
       " '80% off',\n",
       " '79% off',\n",
       " '25% off',\n",
       " '87% off',\n",
       " '79% off',\n",
       " '79% off',\n",
       " '87% off',\n",
       " '38% off',\n",
       " '40% off',\n",
       " '75% off',\n",
       " '87% off',\n",
       " '81% off',\n",
       " '87% off',\n",
       " '90% off',\n",
       " '79% off',\n",
       " '81% off',\n",
       " '85% off',\n",
       " '40% off',\n",
       " '85% off',\n",
       " '88% off',\n",
       " '64% off',\n",
       " '79% off',\n",
       " '88% off',\n",
       " '90% off',\n",
       " '79% off',\n",
       " '70% off',\n",
       " '87% off',\n",
       " '40% off',\n",
       " '40% off',\n",
       " '82% off',\n",
       " '79% off',\n",
       " '79% off',\n",
       " '74% off',\n",
       " '83% off',\n",
       " '79% off',\n",
       " '79% off',\n",
       " '78% off',\n",
       " '40% off',\n",
       " '87% off',\n",
       " '86% off',\n",
       " '80% off',\n",
       " '79% off',\n",
       " '25% off',\n",
       " '87% off']"
      ]
     },
     "execution_count": 102,
     "metadata": {},
     "output_type": "execute_result"
    }
   ],
   "source": [
    "discount_tit"
   ]
  },
  {
   "cell_type": "markdown",
   "id": "cb4b679c",
   "metadata": {},
   "source": [
    "# question 5"
   ]
  },
  {
   "cell_type": "code",
   "execution_count": 103,
   "id": "5f42c809",
   "metadata": {},
   "outputs": [],
   "source": [
    "ratings = []\n",
    "reviews = []\n",
    "review_summary = []"
   ]
  },
  {
   "cell_type": "code",
   "execution_count": 104,
   "id": "dab1c316",
   "metadata": {},
   "outputs": [],
   "source": [
    "ratings_title = driver.find_elements(By.XPATH,'//div[@class=\"_3LWZlK _1BLPMq\"]')\n",
    "for i in ratings_title[0:10]:\n",
    "    title = i.text\n",
    "    ratings.append(title)"
   ]
  },
  {
   "cell_type": "code",
   "execution_count": 105,
   "id": "d1a2e6d7",
   "metadata": {},
   "outputs": [],
   "source": [
    "reviews_titles = driver.find_elements(By.XPATH,'//p[@class=\"_2-N8zT\"]')\n",
    "for i in reviews_titles[0:10]:\n",
    "    title=i.text\n",
    "    reviews.append(title)"
   ]
  },
  {
   "cell_type": "code",
   "execution_count": 106,
   "id": "a933a595",
   "metadata": {},
   "outputs": [],
   "source": [
    "summary_title = driver.find_elements(By.XPATH,'//div[@class=\"t-ZTKy\"]')\n",
    "for i in summary_title[0:10]:\n",
    "    title = i.text\n",
    "    review_summary.append(title)"
   ]
  },
  {
   "cell_type": "code",
   "execution_count": 107,
   "id": "13c2db51",
   "metadata": {},
   "outputs": [
    {
     "name": "stdout",
     "output_type": "stream",
     "text": [
      "8 10 10\n"
     ]
    }
   ],
   "source": [
    "print(len(ratings),len(reviews),len(review_summary))"
   ]
  },
  {
   "cell_type": "code",
   "execution_count": 108,
   "id": "7e7bb4d6",
   "metadata": {},
   "outputs": [
    {
     "data": {
      "text/html": [
       "<div>\n",
       "<style scoped>\n",
       "    .dataframe tbody tr th:only-of-type {\n",
       "        vertical-align: middle;\n",
       "    }\n",
       "\n",
       "    .dataframe tbody tr th {\n",
       "        vertical-align: top;\n",
       "    }\n",
       "\n",
       "    .dataframe thead th {\n",
       "        text-align: right;\n",
       "    }\n",
       "</style>\n",
       "<table border=\"1\" class=\"dataframe\">\n",
       "  <thead>\n",
       "    <tr style=\"text-align: right;\">\n",
       "      <th></th>\n",
       "      <th>reviews</th>\n",
       "      <th>review_summary</th>\n",
       "    </tr>\n",
       "  </thead>\n",
       "  <tbody>\n",
       "    <tr>\n",
       "      <th>0</th>\n",
       "      <td>Good</td>\n",
       "      <td>product is good , nice colour and packaging bu...</td>\n",
       "    </tr>\n",
       "    <tr>\n",
       "      <th>1</th>\n",
       "      <td>Pretty good</td>\n",
       "      <td>Although the glass frames are medium in size b...</td>\n",
       "    </tr>\n",
       "    <tr>\n",
       "      <th>2</th>\n",
       "      <td>Classy product</td>\n",
       "      <td>Excellent product 👍👍</td>\n",
       "    </tr>\n",
       "    <tr>\n",
       "      <th>3</th>\n",
       "      <td>Classy product</td>\n",
       "      <td>Excellent product 👍👍</td>\n",
       "    </tr>\n",
       "    <tr>\n",
       "      <th>4</th>\n",
       "      <td>Terrific purchase</td>\n",
       "      <td>Excellent..its a unisex glass so it looks very...</td>\n",
       "    </tr>\n",
       "    <tr>\n",
       "      <th>5</th>\n",
       "      <td>Good choice</td>\n",
       "      <td>In this prize this product is awesome slightly...</td>\n",
       "    </tr>\n",
       "    <tr>\n",
       "      <th>6</th>\n",
       "      <td>Not good</td>\n",
       "      <td>Flipkart provide simple paper Case for sunglas...</td>\n",
       "    </tr>\n",
       "    <tr>\n",
       "      <th>7</th>\n",
       "      <td>Not good</td>\n",
       "      <td>Nice product but not a sun glass cover</td>\n",
       "    </tr>\n",
       "    <tr>\n",
       "      <th>8</th>\n",
       "      <td>Best in the market!</td>\n",
       "      <td>Really same to same and really nice best quali...</td>\n",
       "    </tr>\n",
       "    <tr>\n",
       "      <th>9</th>\n",
       "      <td>Best in the market!</td>\n",
       "      <td>Really same to same and really nice best quali...</td>\n",
       "    </tr>\n",
       "  </tbody>\n",
       "</table>\n",
       "</div>"
      ],
      "text/plain": [
       "               reviews                                     review_summary\n",
       "0                 Good  product is good , nice colour and packaging bu...\n",
       "1          Pretty good  Although the glass frames are medium in size b...\n",
       "2       Classy product                               Excellent product 👍👍\n",
       "3       Classy product                               Excellent product 👍👍\n",
       "4    Terrific purchase  Excellent..its a unisex glass so it looks very...\n",
       "5          Good choice  In this prize this product is awesome slightly...\n",
       "6             Not good  Flipkart provide simple paper Case for sunglas...\n",
       "7             Not good             Nice product but not a sun glass cover\n",
       "8  Best in the market!  Really same to same and really nice best quali...\n",
       "9  Best in the market!  Really same to same and really nice best quali..."
      ]
     },
     "execution_count": 108,
     "metadata": {},
     "output_type": "execute_result"
    }
   ],
   "source": [
    "df5 = pd.DataFrame({'reviews':reviews,'review_summary':review_summary})\n",
    "df5"
   ]
  },
  {
   "cell_type": "code",
   "execution_count": 109,
   "id": "5d785b35",
   "metadata": {},
   "outputs": [
    {
     "data": {
      "text/plain": [
       "[{'ratings': ['3', '4', '5', '5', '5', '4', '5', '5']}]"
      ]
     },
     "execution_count": 109,
     "metadata": {},
     "output_type": "execute_result"
    }
   ],
   "source": [
    "df6 = [{'ratings':ratings}]\n",
    "df6\n"
   ]
  },
  {
   "cell_type": "markdown",
   "id": "d55b553d",
   "metadata": {},
   "source": [
    "# question 6"
   ]
  },
  {
   "cell_type": "markdown",
   "id": "1f6ef677",
   "metadata": {},
   "source": [
    "# on next notebook"
   ]
  },
  {
   "cell_type": "code",
   "execution_count": null,
   "id": "482759fd",
   "metadata": {},
   "outputs": [],
   "source": []
  }
 ],
 "metadata": {
  "kernelspec": {
   "display_name": "Python 3 (ipykernel)",
   "language": "python",
   "name": "python3"
  },
  "language_info": {
   "codemirror_mode": {
    "name": "ipython",
    "version": 3
   },
   "file_extension": ".py",
   "mimetype": "text/x-python",
   "name": "python",
   "nbconvert_exporter": "python",
   "pygments_lexer": "ipython3",
   "version": "3.9.12"
  }
 },
 "nbformat": 4,
 "nbformat_minor": 5
}
